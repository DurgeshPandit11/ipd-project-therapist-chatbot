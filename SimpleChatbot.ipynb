{
 "cells": [
  {
   "cell_type": "code",
   "execution_count": 1,
   "metadata": {},
   "outputs": [],
   "source": [
    "import openai"
   ]
  },
  {
   "cell_type": "code",
   "execution_count": null,
   "metadata": {},
   "outputs": [],
   "source": []
  },
  {
   "cell_type": "code",
   "execution_count": 6,
   "metadata": {},
   "outputs": [
    {
     "name": "stdout",
     "output_type": "stream",
     "text": [
      "1. Language Learning Assistant: Build an app that uses OpenAI's GPT-3 API to provide language learners with personalized language learning activities, such as conversation practice, grammar exercises, and vocabulary building exercises. The app could also generate realistic dialogues for learners to practice their language skills in a natural context.\n",
      "\n",
      "2. Personalized News Aggregator: Create an app that uses OpenAI's text classification API to curate news stories based on a user's interests and preferences. The app could analyze a user's reading habits and preferences to suggest articles and news updates that are most relevant to them. Users could also ask questions about specific topics and receive personalized news summaries in response.\n",
      "\n",
      "3. Mental Health Support Chatbot: Develop an app that uses OpenAI's language model API to create a chatbot that provides mental health support and resources to users. The chatbot could offer coping strategies, relaxation techniques, and mindfulness exercises to help users manage stress, anxiety, and other mental health issues. Additionally, the app could provide information on local mental health resources and support groups.\n"
     ]
    }
   ],
   "source": [
    "# # before\n",
    "# import json\n",
    "# import openai\n",
    "\n",
    "# completion = openai.Completion.create(model='curie')\n",
    "# print(completion['choices'][0]['text'])\n",
    "# print(completion.get('usage'))\n",
    "# print(json.dumps(completion, indent=2))\n",
    "\n",
    "# after\n",
    "from openai import OpenAI\n",
    "import os\n",
    "\n",
    "client = OpenAI(api_key = os.getenv('OPENAI_API_KEY'))\n",
    "\n",
    "completion = client.chat.completions.create(\n",
    "    model = \"gpt-3.5-turbo\",\n",
    "    messages = [{\"role\": \"user\",\n",
    "                 \"content\": \"Give me 3 ideas for apps I could build with openai apis\"\n",
    "                 }]\n",
    "    )\n",
    "print(completion.choices[0].message.content)\n",
    "# print(dict(completion).get('usage'))\n",
    "# print(completion.model_dump_json(indent=2))"
   ]
  },
  {
   "cell_type": "code",
   "execution_count": 8,
   "metadata": {},
   "outputs": [
    {
     "data": {
      "text/plain": [
       "openai.OpenAI"
      ]
     },
     "execution_count": 8,
     "metadata": {},
     "output_type": "execute_result"
    }
   ],
   "source": [
    "type(client)"
   ]
  },
  {
   "cell_type": "code",
   "execution_count": 15,
   "metadata": {},
   "outputs": [
    {
     "name": "stdout",
     "output_type": "stream",
     "text": [
      "1. Language Learning Assistant: Build an app that uses OpenAI's GPT-3 API to provide language learners with personalized language learning activities, such as conversation practice, grammar exercises, and vocabulary building exercises. The app could also generate realistic dialogues for learners to practice their language skills in a natural context.\n",
      "\n",
      "2. Personalized News Aggregator: Create an app that uses OpenAI's text classification API to curate news stories based on a user's interests and preferences. The app could analyze a user's reading habits and preferences to suggest articles and news updates that are most relevant to them. Users could also ask questions about specific topics and receive personalized news summaries in response.\n",
      "\n",
      "3. Mental Health Support Chatbot: Develop an app that uses OpenAI's language model API to create a chatbot that provides mental health support and resources to users. The chatbot could offer coping strategies, relaxation techniques, and mindfulness exercises to help users manage stress, anxiety, and other mental health issues. Additionally, the app could provide information on local mental health resources and support groups.\n"
     ]
    }
   ],
   "source": [
    "print(completion.choices[0].message.content)"
   ]
  }
 ],
 "metadata": {
  "kernelspec": {
   "display_name": "base",
   "language": "python",
   "name": "python3"
  },
  "language_info": {
   "codemirror_mode": {
    "name": "ipython",
    "version": 3
   },
   "file_extension": ".py",
   "mimetype": "text/x-python",
   "name": "python",
   "nbconvert_exporter": "python",
   "pygments_lexer": "ipython3",
   "version": "3.10.14"
  }
 },
 "nbformat": 4,
 "nbformat_minor": 2
}
