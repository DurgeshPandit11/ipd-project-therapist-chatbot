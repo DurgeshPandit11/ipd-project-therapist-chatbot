{
 "cells": [
  {
   "cell_type": "code",
   "execution_count": 1,
   "metadata": {},
   "outputs": [],
   "source": [
    "import pandas as pd\n",
    "import numpy as np\n",
    "import matplotlib.pyplot as plt\n",
    "from sklearn.feature_extraction.text import TfidfVectorizer\n",
    "from sklearn.metrics.pairwise import cosine_similarity"
   ]
  },
  {
   "cell_type": "code",
   "execution_count": 2,
   "metadata": {},
   "outputs": [
    {
     "data": {
      "text/html": [
       "<div>\n",
       "<style scoped>\n",
       "    .dataframe tbody tr th:only-of-type {\n",
       "        vertical-align: middle;\n",
       "    }\n",
       "\n",
       "    .dataframe tbody tr th {\n",
       "        vertical-align: top;\n",
       "    }\n",
       "\n",
       "    .dataframe thead th {\n",
       "        text-align: right;\n",
       "    }\n",
       "</style>\n",
       "<table border=\"1\" class=\"dataframe\">\n",
       "  <thead>\n",
       "    <tr style=\"text-align: right;\">\n",
       "      <th></th>\n",
       "      <th>questionText</th>\n",
       "      <th>topic</th>\n",
       "      <th>answerText</th>\n",
       "      <th>ChatbotAnswers</th>\n",
       "    </tr>\n",
       "  </thead>\n",
       "  <tbody>\n",
       "    <tr>\n",
       "      <th>0</th>\n",
       "      <td>I’m facing severe depression and anxiety and I...</td>\n",
       "      <td>depression</td>\n",
       "      <td>First, be patient because anxiety and depressi...</td>\n",
       "      <td>Anxiety usually about some sort of anticipated...</td>\n",
       "    </tr>\n",
       "    <tr>\n",
       "      <th>1</th>\n",
       "      <td>There are many people willing to lovingly prov...</td>\n",
       "      <td>depression</td>\n",
       "      <td>From the little bit you wrote, my guess is you...</td>\n",
       "      <td>As long as you have friends to love and apprec...</td>\n",
       "    </tr>\n",
       "    <tr>\n",
       "      <th>2</th>\n",
       "      <td>I've become so jaded that I can't control my t...</td>\n",
       "      <td>depression</td>\n",
       "      <td>Maybe your thoughts require your attention and...</td>\n",
       "      <td>Anxiety usually about some upcoming circumstan...</td>\n",
       "    </tr>\n",
       "    <tr>\n",
       "      <th>3</th>\n",
       "      <td>After he got home from the hospital he was ang...</td>\n",
       "      <td>depression</td>\n",
       "      <td>Since as husband and wife your lives are close...</td>\n",
       "      <td>Your question reads as though you are the one ...</td>\n",
       "    </tr>\n",
       "    <tr>\n",
       "      <th>4</th>\n",
       "      <td>I have terrible anxiety and depression. I've t...</td>\n",
       "      <td>depression</td>\n",
       "      <td>Is it possible you simply didn't mix well with...</td>\n",
       "      <td>Probably what you need is a new approach to fi...</td>\n",
       "    </tr>\n",
       "  </tbody>\n",
       "</table>\n",
       "</div>"
      ],
      "text/plain": [
       "                                        questionText       topic  \\\n",
       "0  I’m facing severe depression and anxiety and I...  depression   \n",
       "1  There are many people willing to lovingly prov...  depression   \n",
       "2  I've become so jaded that I can't control my t...  depression   \n",
       "3  After he got home from the hospital he was ang...  depression   \n",
       "4  I have terrible anxiety and depression. I've t...  depression   \n",
       "\n",
       "                                          answerText  \\\n",
       "0  First, be patient because anxiety and depressi...   \n",
       "1  From the little bit you wrote, my guess is you...   \n",
       "2  Maybe your thoughts require your attention and...   \n",
       "3  Since as husband and wife your lives are close...   \n",
       "4  Is it possible you simply didn't mix well with...   \n",
       "\n",
       "                                      ChatbotAnswers  \n",
       "0  Anxiety usually about some sort of anticipated...  \n",
       "1  As long as you have friends to love and apprec...  \n",
       "2  Anxiety usually about some upcoming circumstan...  \n",
       "3  Your question reads as though you are the one ...  \n",
       "4  Probably what you need is a new approach to fi...  "
      ]
     },
     "execution_count": 2,
     "metadata": {},
     "output_type": "execute_result"
    }
   ],
   "source": [
    "df = pd.read_csv(\"chatbot_eval_df.csv\")\n",
    "df.head()"
   ]
  },
  {
   "cell_type": "code",
   "execution_count": 3,
   "metadata": {},
   "outputs": [
    {
     "name": "stdout",
     "output_type": "stream",
     "text": [
      "  (0, 7)\t0.055817481350722446\n",
      "  (0, 53)\t0.03971459770058322\n",
      "  (0, 95)\t0.055817481350722446\n",
      "  (0, 25)\t0.055817481350722446\n",
      "  (0, 52)\t0.055817481350722446\n",
      "  (0, 66)\t0.055817481350722446\n",
      "  (0, 3)\t0.055817481350722446\n",
      "  (0, 68)\t0.055817481350722446\n",
      "  (0, 74)\t0.055817481350722446\n",
      "  (0, 19)\t0.03971459770058322\n",
      "  (0, 36)\t0.055817481350722446\n",
      "  (0, 43)\t0.03971459770058322\n",
      "  (0, 35)\t0.055817481350722446\n",
      "  (0, 31)\t0.055817481350722446\n",
      "  (0, 105)\t0.11163496270144489\n",
      "  (0, 51)\t0.055817481350722446\n",
      "  (0, 38)\t0.055817481350722446\n",
      "  (0, 99)\t0.055817481350722446\n",
      "  (0, 102)\t0.03971459770058322\n",
      "  (0, 5)\t0.11914379310174965\n",
      "  (0, 44)\t0.11163496270144489\n",
      "  (0, 23)\t0.055817481350722446\n",
      "  (0, 63)\t0.03971459770058322\n",
      "  (0, 109)\t0.11163496270144489\n",
      "  (0, 55)\t0.055817481350722446\n",
      "  :\t:\n",
      "  (1, 102)\t0.06542538546977233\n",
      "  (1, 5)\t0.196276156409317\n",
      "  (1, 63)\t0.13085077093954467\n",
      "  (1, 108)\t0.06542538546977233\n",
      "  (1, 33)\t0.06542538546977233\n",
      "  (1, 70)\t0.06542538546977233\n",
      "  (1, 41)\t0.06542538546977233\n",
      "  (1, 18)\t0.06542538546977233\n",
      "  (1, 112)\t0.13085077093954467\n",
      "  (1, 92)\t0.06542538546977233\n",
      "  (1, 110)\t0.196276156409317\n",
      "  (1, 75)\t0.13085077093954467\n",
      "  (1, 72)\t0.06542538546977233\n",
      "  (1, 8)\t0.06542538546977233\n",
      "  (1, 20)\t0.196276156409317\n",
      "  (1, 61)\t0.06542538546977233\n",
      "  (1, 88)\t0.06542538546977233\n",
      "  (1, 49)\t0.13085077093954467\n",
      "  (1, 42)\t0.196276156409317\n",
      "  (1, 65)\t0.06542538546977233\n",
      "  (1, 100)\t0.06542538546977233\n",
      "  (1, 60)\t0.06542538546977233\n",
      "  (1, 114)\t0.06542538546977233\n",
      "  (1, 94)\t0.392552312818634\n",
      "  (1, 111)\t0.196276156409317\n"
     ]
    }
   ],
   "source": [
    "# Convert the texts into TF-IDF vectors\n",
    "vectorizer = TfidfVectorizer()\n",
    "vectors = vectorizer.fit_transform([df.loc[25, \"answerText\"], df.loc[25, \"ChatbotAnswers\"]])\n",
    "print(vectors[:3])"
   ]
  },
  {
   "cell_type": "code",
   "execution_count": 4,
   "metadata": {},
   "outputs": [
    {
     "name": "stdout",
     "output_type": "stream",
     "text": [
      "[[1.        0.4910868]\n",
      " [0.4910868 1.       ]]\n",
      "0.49108680117080494\n"
     ]
    }
   ],
   "source": [
    "# Calculate the cosine similarity between the vectors\n",
    "similarity = cosine_similarity(vectors)\n",
    "print(similarity)\n",
    "print(similarity[0][1])"
   ]
  },
  {
   "cell_type": "code",
   "execution_count": 5,
   "metadata": {},
   "outputs": [
    {
     "data": {
      "text/plain": [
       "('Please feel free to cry during therapy if you suddenly feel painful emotions arising when you describe some of your unsatisfying and unfulfilling relationships and situations.Crying when realizing the emotional hurt and unfairness between you and someone, clears you for new ways of handling interactions.As a therapist, I always have a box of tissues on the table next to the couch where people who utilize my therapy, sit.I hope you will soon discover that once your tears unlock your awareness of harmful relationships in your life, you will quickly see the freedom to establish new and happier patterns of relating.Have a good therapy!',\n",
       " 'How do you imagine crying in therapy would be embarrassing?Therapists are very familiar with people feeling like a fool, while in the midst of new awareness and seeing how this awareness is freeing, raise the unwelcome fact of crying, if this happens in discussing your new awareness with your therapist.Therapists have empathy and care about the situations in which their clients find themselves.')"
      ]
     },
     "execution_count": 5,
     "metadata": {},
     "output_type": "execute_result"
    }
   ],
   "source": [
    "df.loc[49, \"answerText\"], df.loc[49, \"ChatbotAnswers\"]"
   ]
  },
  {
   "cell_type": "code",
   "execution_count": 6,
   "metadata": {},
   "outputs": [],
   "source": [
    "sklearn_cosine_sims = []\n",
    "\n",
    "for i in range(len(df)):\n",
    "    vectors = vectorizer.fit_transform([df.loc[i, \"answerText\"], df.loc[i, \"ChatbotAnswers\"]])\n",
    "    sklearn_cosine_sims.append(cosine_similarity(vectors)[0][1])"
   ]
  },
  {
   "cell_type": "code",
   "execution_count": 7,
   "metadata": {},
   "outputs": [
    {
     "data": {
      "text/plain": [
       "[0.3087825187269074,\n",
       " 0.6141219021898782,\n",
       " 0.3679917581982588,\n",
       " 0.4998487296710384,\n",
       " 0.37027833118343645]"
      ]
     },
     "execution_count": 7,
     "metadata": {},
     "output_type": "execute_result"
    }
   ],
   "source": [
    "sklearn_cosine_sims[:5]"
   ]
  },
  {
   "cell_type": "code",
   "execution_count": 8,
   "metadata": {},
   "outputs": [
    {
     "data": {
      "text/html": [
       "<div>\n",
       "<style scoped>\n",
       "    .dataframe tbody tr th:only-of-type {\n",
       "        vertical-align: middle;\n",
       "    }\n",
       "\n",
       "    .dataframe tbody tr th {\n",
       "        vertical-align: top;\n",
       "    }\n",
       "\n",
       "    .dataframe thead th {\n",
       "        text-align: right;\n",
       "    }\n",
       "</style>\n",
       "<table border=\"1\" class=\"dataframe\">\n",
       "  <thead>\n",
       "    <tr style=\"text-align: right;\">\n",
       "      <th></th>\n",
       "      <th>questionText</th>\n",
       "      <th>topic</th>\n",
       "      <th>answerText</th>\n",
       "      <th>ChatbotAnswers</th>\n",
       "      <th>sklearn_cosine_sims</th>\n",
       "    </tr>\n",
       "  </thead>\n",
       "  <tbody>\n",
       "    <tr>\n",
       "      <th>0</th>\n",
       "      <td>I’m facing severe depression and anxiety and I...</td>\n",
       "      <td>depression</td>\n",
       "      <td>First, be patient because anxiety and depressi...</td>\n",
       "      <td>Anxiety usually about some sort of anticipated...</td>\n",
       "      <td>0.308783</td>\n",
       "    </tr>\n",
       "    <tr>\n",
       "      <th>1</th>\n",
       "      <td>There are many people willing to lovingly prov...</td>\n",
       "      <td>depression</td>\n",
       "      <td>From the little bit you wrote, my guess is you...</td>\n",
       "      <td>As long as you have friends to love and apprec...</td>\n",
       "      <td>0.614122</td>\n",
       "    </tr>\n",
       "    <tr>\n",
       "      <th>2</th>\n",
       "      <td>I've become so jaded that I can't control my t...</td>\n",
       "      <td>depression</td>\n",
       "      <td>Maybe your thoughts require your attention and...</td>\n",
       "      <td>Anxiety usually about some upcoming circumstan...</td>\n",
       "      <td>0.367992</td>\n",
       "    </tr>\n",
       "    <tr>\n",
       "      <th>3</th>\n",
       "      <td>After he got home from the hospital he was ang...</td>\n",
       "      <td>depression</td>\n",
       "      <td>Since as husband and wife your lives are close...</td>\n",
       "      <td>Your question reads as though you are the one ...</td>\n",
       "      <td>0.499849</td>\n",
       "    </tr>\n",
       "    <tr>\n",
       "      <th>4</th>\n",
       "      <td>I have terrible anxiety and depression. I've t...</td>\n",
       "      <td>depression</td>\n",
       "      <td>Is it possible you simply didn't mix well with...</td>\n",
       "      <td>Probably what you need is a new approach to fi...</td>\n",
       "      <td>0.370278</td>\n",
       "    </tr>\n",
       "  </tbody>\n",
       "</table>\n",
       "</div>"
      ],
      "text/plain": [
       "                                        questionText       topic  \\\n",
       "0  I’m facing severe depression and anxiety and I...  depression   \n",
       "1  There are many people willing to lovingly prov...  depression   \n",
       "2  I've become so jaded that I can't control my t...  depression   \n",
       "3  After he got home from the hospital he was ang...  depression   \n",
       "4  I have terrible anxiety and depression. I've t...  depression   \n",
       "\n",
       "                                          answerText  \\\n",
       "0  First, be patient because anxiety and depressi...   \n",
       "1  From the little bit you wrote, my guess is you...   \n",
       "2  Maybe your thoughts require your attention and...   \n",
       "3  Since as husband and wife your lives are close...   \n",
       "4  Is it possible you simply didn't mix well with...   \n",
       "\n",
       "                                      ChatbotAnswers  sklearn_cosine_sims  \n",
       "0  Anxiety usually about some sort of anticipated...             0.308783  \n",
       "1  As long as you have friends to love and apprec...             0.614122  \n",
       "2  Anxiety usually about some upcoming circumstan...             0.367992  \n",
       "3  Your question reads as though you are the one ...             0.499849  \n",
       "4  Probably what you need is a new approach to fi...             0.370278  "
      ]
     },
     "execution_count": 8,
     "metadata": {},
     "output_type": "execute_result"
    }
   ],
   "source": [
    "df[\"sklearn_cosine_sims\"] = sklearn_cosine_sims\n",
    "df.head()"
   ]
  },
  {
   "cell_type": "code",
   "execution_count": 9,
   "metadata": {},
   "outputs": [
    {
     "data": {
      "text/plain": [
       "[<matplotlib.lines.Line2D at 0x22c92187f10>]"
      ]
     },
     "execution_count": 9,
     "metadata": {},
     "output_type": "execute_result"
    },
    {
     "data": {
      "image/png": "[encoded data removed]",
      "text/plain": [
       "<Figure size 700x400 with 1 Axes>"
      ]
     },
     "metadata": {},
     "output_type": "display_data"
    }
   ],
   "source": [
    "plt.figure(figsize=(7, 4))\n",
    "plt.xlabel(\"Example number\")\n",
    "plt.ylabel(\"Cosine similarity\")\n",
    "plt.plot(df[\"sklearn_cosine_sims\"])"
   ]
  },
  {
   "cell_type": "code",
   "execution_count": 10,
   "metadata": {},
   "outputs": [
    {
     "name": "stdout",
     "output_type": "stream",
     "text": [
      "Mean Similarity = 0.40135139724676683\n",
      "Median Similarity = 0.40158974667426484\n"
     ]
    }
   ],
   "source": [
    "print(\"Mean Similarity =\", np.mean(df[\"sklearn_cosine_sims\"]))\n",
    "print(\"Median Similarity =\", np.median(df[\"sklearn_cosine_sims\"]))"
   ]
  },
  {
   "cell_type": "code",
   "execution_count": 12,
   "metadata": {},
   "outputs": [],
   "source": [
    "df.to_csv(\"chatbot_eval_scores.csv\", index=False)"
   ]
  }
 ],
 "metadata": {
  "kernelspec": {
   "display_name": "ForIPD",
   "language": "python",
   "name": "python3"
  },
  "language_info": {
   "codemirror_mode": {
    "name": "ipython",
    "version": 3
   },
   "file_extension": ".py",
   "mimetype": "text/x-python",
   "name": "python",
   "nbconvert_exporter": "python",
   "pygments_lexer": "ipython3",
   "version": "3.10.14"
  }
 },
 "nbformat": 4,
 "nbformat_minor": 2
}
