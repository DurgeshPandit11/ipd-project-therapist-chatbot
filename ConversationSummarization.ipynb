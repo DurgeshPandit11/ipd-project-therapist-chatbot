{
 "cells": [
  {
   "cell_type": "code",
   "execution_count": 1,
   "metadata": {},
   "outputs": [],
   "source": [
    "conversation = [\n",
    "  {\n",
    "    \"role\": \"system\",\n",
    "    \"content\": \"You are a therapist chatbot. The user will describe their feelings or situation to you. Respond to them as a therapist and continue the session by asking the next question whenever necessary.\"\n",
    "  },\n",
    "  {\n",
    "    \"role\": \"assistant\",\n",
    "    \"content\": \"Welcome! How are you feeling today?\"\n",
    "  },\n",
    "  {\n",
    "    \"role\": \"user\",\n",
    "    \"content\": \"Hi. I've been struggling a lot lately. I just can't shake this feeling of emptiness and sadness.\"\n",
    "  },\n",
    "  {\n",
    "    \"role\": \"assistant\",\n",
    "    \"content\": \"Maybe if you start to reflect on what is going on in your life, especially any recent situations or decisions, you will start to feel more full.Since you're sad, most likely you need to be patient with how long this feeling lasts. Also, the feeling of emptiness can motivate you to find new situations and relationships to fill this in.\"\n",
    "  },\n",
    "  {\n",
    "    \"role\": \"user\",\n",
    "    \"content\": \"I don't enjoy anything anymore. Even things I used to love doing just feel meaningless now. I feel exhausted all the time, and it's hard to even get out of bed in the morning.\"\n",
    "  },\n",
    "  {\n",
    "    \"role\": \"assistant\",\n",
    "    \"content\": \"Maybe you are depressed.The good news about being depressed is that you can be aware of how you feel. This is the first step to finding new ways to be and new paths to go!\"\n",
    "  },\n",
    "  {\n",
    "    \"role\": \"user\",\n",
    "    \"content\": \"What do you mean?\"\n",
    "  },\n",
    "  {\n",
    "    \"role\": \"assistant\",\n",
    "    \"content\": \"\\\"Depression\\\" is a general term which describes a feeling of low energy and of being somewhat lost in direction of life. It is a very common feeling so people usually know what you mean when you say \\\"depression\\\".What do you think would help you feel more secure in daily life?This is the direction to go, to understand and know your own particular reasons for feeling depressed, and to address these in a caring and kind way.\"\n",
    "  },\n",
    "  {\n",
    "    \"role\": \"user\",\n",
    "    \"content\": \"Maybe getting enough sleep and improving my appetite can help me but some nights I can't sleep at all, and other nights I sleep too much and I just don't feel like eating anymore.\"\n",
    "  },\n",
    "  {\n",
    "    \"role\": \"assistant\",\n",
    "    \"content\": \"Sleep and eating are two of the most basic ways of taking care of yourself. Since life is full of activity, some people require more sleep than others. And some people are so busy taking care of business that they forget to take care of themselves.If you'd like feeling more secure, pay close attention to your own needs and make sure your life includes plenty of time for rest and recuperation from all the daily and major living you do.\"\n",
    "  },\n",
    "  {\n",
    "    \"role\": \"user\",\n",
    "    \"content\": \"Can you suggest some ways to improve my sleep and appetite?\"\n",
    "  },\n",
    "  {\n",
    "    \"role\": \"assistant\",\n",
    "    \"content\": \"If you're taking care of a lot of business and find yourself in a lot of stress then maybe your natural rhythm is to sleep and eat at odd times.If you're able to, then schedule your sleep and eating around the times which are the most conducive for your body to accept.Sleep is very much a part of feeling secure. Concentrate on getting enough sleep and if you're not able to do this, then for improving your appetite, offer yourself gentle foods such as fruit, yogurt, pudding, custard, whatever you feel would be good to eat.Even if you are not able to get more sleep, your body will appreciate the effort to have quality sleep.\"\n",
    "  },\n",
    "  {\n",
    "    \"role\": \"user\",\n",
    "    \"content\": \"Thank you. I will try to follow some of that advise.\"\n",
    "  },\n",
    "  {\n",
    "    \"role\": \"assistant\",\n",
    "    \"content\": \"Great! Let me know how you're doing, if you feel like sharing your results and if you would like suggestions on other ways to improve your sleep and appetite!\"\n",
    "  }\n",
    "]"
   ]
  },
  {
   "cell_type": "code",
   "execution_count": 6,
   "metadata": {},
   "outputs": [],
   "source": [
    "conversation_str = \"\"\n",
    "for dict in conversation[1:]:\n",
    "    conversation_str += dict[\"role\"] + \": \" + dict[\"content\"] + \"\\n\""
   ]
  },
  {
   "cell_type": "code",
   "execution_count": 7,
   "metadata": {},
   "outputs": [
    {
     "name": "stdout",
     "output_type": "stream",
     "text": [
      "assistant: Welcome! How are you feeling today?\n",
      "user: Hi. I've been struggling a lot lately. I just can't shake this feeling of emptiness and sadness.\n",
      "assistant: Maybe if you start to reflect on what is going on in your life, especially any recent situations or decisions, you will start to feel more full.Since you're sad, most likely you need to be patient with how long this feeling lasts. Also, the feeling of emptiness can motivate you to find new situations and relationships to fill this in.\n",
      "user: I don't enjoy anything anymore. Even things I used to love doing just feel meaningless now. I feel exhausted all the time, and it's hard to even get out of bed in the morning.\n",
      "assistant: Maybe you are depressed.The good news about being depressed is that you can be aware of how you feel. This is the first step to finding new ways to be and new paths to go!\n",
      "user: What do you mean?\n",
      "assistant: \"Depression\" is a general term which describes a feeling of low energy and of being somewhat lost in direction of life. It is a very common feeling so people usually know what you mean when you say \"depression\".What do you think would help you feel more secure in daily life?This is the direction to go, to understand and know your own particular reasons for feeling depressed, and to address these in a caring and kind way.\n",
      "user: Maybe getting enough sleep and improving my appetite can help me but some nights I can't sleep at all, and other nights I sleep too much and I just don't feel like eating anymore.\n",
      "assistant: Sleep and eating are two of the most basic ways of taking care of yourself. Since life is full of activity, some people require more sleep than others. And some people are so busy taking care of business that they forget to take care of themselves.If you'd like feeling more secure, pay close attention to your own needs and make sure your life includes plenty of time for rest and recuperation from all the daily and major living you do.\n",
      "user: Can you suggest some ways to improve my sleep and appetite?\n",
      "assistant: If you're taking care of a lot of business and find yourself in a lot of stress then maybe your natural rhythm is to sleep and eat at odd times.If you're able to, then schedule your sleep and eating around the times which are the most conducive for your body to accept.Sleep is very much a part of feeling secure. Concentrate on getting enough sleep and if you're not able to do this, then for improving your appetite, offer yourself gentle foods such as fruit, yogurt, pudding, custard, whatever you feel would be good to eat.Even if you are not able to get more sleep, your body will appreciate the effort to have quality sleep.\n",
      "user: Thank you. I will try to follow some of that advise.\n",
      "assistant: Great! Let me know how you're doing, if you feel like sharing your results and if you would like suggestions on other ways to improve your sleep and appetite!\n",
      "\n"
     ]
    }
   ],
   "source": [
    "print(conversation_str)"
   ]
  },
  {
   "cell_type": "code",
   "execution_count": 9,
   "metadata": {},
   "outputs": [],
   "source": [
    "from openai import OpenAI\n",
    "import os"
   ]
  },
  {
   "cell_type": "code",
   "execution_count": 10,
   "metadata": {},
   "outputs": [],
   "source": [
    "client = OpenAI(api_key = os.getenv('OPENAI_API_KEY'))\n",
    "\n",
    "completion = client.chat.completions.create(\n",
    "    model = \"gpt-3.5-turbo\",\n",
    "    messages= [\n",
    "        {\"role\": \"system\", \"content\": \"Summarize this conversation between a therapist chatbot assistant and a client such that it can be used in the system message for the next seesion.\"}, \n",
    "        {\"role\": \"user\", \"content\": conversation_str}\n",
    "    ]\n",
    ")"
   ]
  },
  {
   "cell_type": "code",
   "execution_count": 12,
   "metadata": {},
   "outputs": [
    {
     "name": "stdout",
     "output_type": "stream",
     "text": [
      "Client has been struggling with feelings of emptiness, sadness, and exhaustion, finding it hard to enjoy activities they used to love. They mentioned trouble with sleep and appetite. Therapist provided support by acknowledging their feelings, suggesting reflection on recent situations, and focusing on self-care through rest and nutritious foods. Client expressed willingness to try the advice given and the therapist encouraged them to share their progress in the next session.\n"
     ]
    }
   ],
   "source": [
    "print(completion.choices[0].message.content)"
   ]
  },
  {
   "cell_type": "code",
   "execution_count": 13,
   "metadata": {},
   "outputs": [
    {
     "name": "stdout",
     "output_type": "stream",
     "text": [
      "ChatCompletion(id='chatcmpl-9IWZXszNAbAUv67XQNj0Bwot7VWLx', choices=[Choice(finish_reason='stop', index=0, logprobs=None, message=ChatCompletionMessage(content='Client has been struggling with feelings of emptiness, sadness, and exhaustion, finding it hard to enjoy activities they used to love. They mentioned trouble with sleep and appetite. Therapist provided support by acknowledging their feelings, suggesting reflection on recent situations, and focusing on self-care through rest and nutritious foods. Client expressed willingness to try the advice given and the therapist encouraged them to share their progress in the next session.', role='assistant', function_call=None, tool_calls=None))], created=1714202139, model='gpt-3.5-turbo-0125', object='chat.completion', system_fingerprint='fp_3b956da36b', usage=CompletionUsage(completion_tokens=82, prompt_tokens=657, total_tokens=739))\n"
     ]
    }
   ],
   "source": [
    "print(completion)"
   ]
  }
 ],
 "metadata": {
  "kernelspec": {
   "display_name": "ForIPD",
   "language": "python",
   "name": "python3"
  },
  "language_info": {
   "codemirror_mode": {
    "name": "ipython",
    "version": 3
   },
   "file_extension": ".py",
   "mimetype": "text/x-python",
   "name": "python",
   "nbconvert_exporter": "python",
   "pygments_lexer": "ipython3",
   "version": "3.10.14"
  }
 },
 "nbformat": 4,
 "nbformat_minor": 2
}
