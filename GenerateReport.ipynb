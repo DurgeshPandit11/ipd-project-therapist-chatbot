{
 "cells": [
  {
   "cell_type": "code",
   "execution_count": 1,
   "metadata": {},
   "outputs": [],
   "source": [
    "import ModelWorking"
   ]
  },
  {
   "cell_type": "code",
   "execution_count": 2,
   "metadata": {},
   "outputs": [
    {
     "data": {
      "text/plain": [
       "array([0, 0, 0, ..., 0, 0, 0])"
      ]
     },
     "execution_count": 2,
     "metadata": {},
     "output_type": "execute_result"
    }
   ],
   "source": [
    "ModelWorking.preprocess_user_message(\"Hello World!\")"
   ]
  },
  {
   "cell_type": "code",
   "execution_count": 3,
   "metadata": {},
   "outputs": [],
   "source": [
    "conversation = [\n",
    "  {\n",
    "    \"role\": \"system\",\n",
    "    \"content\": \"You are a therapist chatbot. The user will describe their feelings or situation to you. Respond to them as a therapist and continue the session by asking the next question whenever necessary.\"\n",
    "  },\n",
    "  {\n",
    "    \"role\": \"assistant\",\n",
    "    \"content\": \"Welcome! How are you feeling today?\"\n",
    "  },\n",
    "  {\n",
    "    \"role\": \"user\",\n",
    "    \"content\": \"Hi. I've been struggling a lot lately. I just can't shake this feeling of emptiness and sadness.\"\n",
    "  },\n",
    "  {\n",
    "    \"role\": \"assistant\",\n",
    "    \"content\": \"Maybe if you start to reflect on what is going on in your life, especially any recent situations or decisions, you will start to feel more full.Since you're sad, most likely you need to be patient with how long this feeling lasts. Also, the feeling of emptiness can motivate you to find new situations and relationships to fill this in.\"\n",
    "  },\n",
    "  {\n",
    "    \"role\": \"user\",\n",
    "    \"content\": \"I don't enjoy anything anymore. Even things I used to love doing just feel meaningless now. I feel exhausted all the time, and it's hard to even get out of bed in the morning.\"\n",
    "  },\n",
    "  {\n",
    "    \"role\": \"assistant\",\n",
    "    \"content\": \"Maybe you are depressed.The good news about being depressed is that you can be aware of how you feel. This is the first step to finding new ways to be and new paths to go!\"\n",
    "  },\n",
    "  {\n",
    "    \"role\": \"user\",\n",
    "    \"content\": \"What do you mean?\"\n",
    "  },\n",
    "  {\n",
    "    \"role\": \"assistant\",\n",
    "    \"content\": \"\\\"Depression\\\" is a general term which describes a feeling of low energy and of being somewhat lost in direction of life. It is a very common feeling so people usually know what you mean when you say \\\"depression\\\".What do you think would help you feel more secure in daily life?This is the direction to go, to understand and know your own particular reasons for feeling depressed, and to address these in a caring and kind way.\"\n",
    "  },\n",
    "  {\n",
    "    \"role\": \"user\",\n",
    "    \"content\": \"Maybe getting enough sleep and improving my appetite can help me but some nights I can't sleep at all, and other nights I sleep too much and I just don't feel like eating anymore.\"\n",
    "  },\n",
    "  {\n",
    "    \"role\": \"assistant\",\n",
    "    \"content\": \"Sleep and eating are two of the most basic ways of taking care of yourself. Since life is full of activity, some people require more sleep than others. And some people are so busy taking care of business that they forget to take care of themselves.If you'd like feeling more secure, pay close attention to your own needs and make sure your life includes plenty of time for rest and recuperation from all the daily and major living you do.\"\n",
    "  },\n",
    "  {\n",
    "    \"role\": \"user\",\n",
    "    \"content\": \"Can you suggest some ways to improve my sleep and appetite?\"\n",
    "  },\n",
    "  {\n",
    "    \"role\": \"assistant\",\n",
    "    \"content\": \"If you're taking care of a lot of business and find yourself in a lot of stress then maybe your natural rhythm is to sleep and eat at odd times.If you're able to, then schedule your sleep and eating around the times which are the most conducive for your body to accept.Sleep is very much a part of feeling secure. Concentrate on getting enough sleep and if you're not able to do this, then for improving your appetite, offer yourself gentle foods such as fruit, yogurt, pudding, custard, whatever you feel would be good to eat.Even if you are not able to get more sleep, your body will appreciate the effort to have quality sleep.\"\n",
    "  },\n",
    "  {\n",
    "    \"role\": \"user\",\n",
    "    \"content\": \"Thank you. I will try to follow some of that advise.\"\n",
    "  },\n",
    "  {\n",
    "    \"role\": \"assistant\",\n",
    "    \"content\": \"Great! Let me know how you're doing, if you feel like sharing your results and if you would like suggestions on other ways to improve your sleep and appetite!\"\n",
    "  }\n",
    "]"
   ]
  },
  {
   "cell_type": "code",
   "execution_count": 4,
   "metadata": {},
   "outputs": [
    {
     "name": "stdout",
     "output_type": "stream",
     "text": [
      "User messages:\n"
     ]
    },
    {
     "data": {
      "text/plain": [
       "[\"Hi. I've been struggling a lot lately. I just can't shake this feeling of emptiness and sadness.\",\n",
       " \"I don't enjoy anything anymore. Even things I used to love doing just feel meaningless now. I feel exhausted all the time, and it's hard to even get out of bed in the morning.\",\n",
       " 'What do you mean?',\n",
       " \"Maybe getting enough sleep and improving my appetite can help me but some nights I can't sleep at all, and other nights I sleep too much and I just don't feel like eating anymore.\",\n",
       " 'Can you suggest some ways to improve my sleep and appetite?',\n",
       " 'Thank you. I will try to follow some of that advise.']"
      ]
     },
     "execution_count": 4,
     "metadata": {},
     "output_type": "execute_result"
    }
   ],
   "source": [
    "def get_user_messages(conversation: list):\n",
    "    user_messages = []\n",
    "    for dict in conversation:\n",
    "        if dict[\"role\"] == \"user\":\n",
    "            user_messages.append(dict[\"content\"])\n",
    "    return user_messages\n",
    "\n",
    "\n",
    "print(\"User messages:\") \n",
    "get_user_messages(conversation)"
   ]
  },
  {
   "cell_type": "code",
   "execution_count": 5,
   "metadata": {},
   "outputs": [],
   "source": [
    "# # define dependency \n",
    "# from tensorflow.keras.models import load_model\n",
    "\n",
    "# # load model \n",
    "# model = load_model('sent_clf_model_cc_data.keras')\n",
    "\n",
    "# # check model info \n",
    "# model.summary()"
   ]
  },
  {
   "cell_type": "code",
   "execution_count": 6,
   "metadata": {},
   "outputs": [],
   "source": [
    "def get_labels(user_messages: list):\n",
    "    labels_for_messages = []\n",
    "    for message in user_messages:\n",
    "        label = ModelWorking.predict_tag_for_user_message(\n",
    "            ModelWorking.preprocess_user_message(message)\n",
    "        )[0][\"intent\"]\n",
    "\n",
    "        labels_for_messages.append(label)\n",
    "    \n",
    "    return labels_for_messages"
   ]
  },
  {
   "cell_type": "code",
   "execution_count": 8,
   "metadata": {},
   "outputs": [
    {
     "data": {
      "text/plain": [
       "['depression', 'unknown', 'unknown', 'self-esteem', 'unknown', 'unknown']"
      ]
     },
     "execution_count": 8,
     "metadata": {},
     "output_type": "execute_result"
    }
   ],
   "source": [
    "sentiments = get_labels(get_user_messages(conversation))\n",
    "sentiments"
   ]
  },
  {
   "cell_type": "code",
   "execution_count": 12,
   "metadata": {},
   "outputs": [],
   "source": [
    "import matplotlib.pyplot as plt"
   ]
  },
  {
   "cell_type": "code",
   "execution_count": 13,
   "metadata": {},
   "outputs": [
    {
     "data": {
      "text/plain": [
       "(array([1., 0., 0., 0., 0., 0., 0., 0., 0., 1.]),\n",
       " array([0. , 0.1, 0.2, 0.3, 0.4, 0.5, 0.6, 0.7, 0.8, 0.9, 1. ]),\n",
       " <BarContainer object of 10 artists>)"
      ]
     },
     "execution_count": 13,
     "metadata": {},
     "output_type": "execute_result"
    },
    {
     "data": {
      "image/png": "[encoded data removed]",
      "text/plain": [
       "<Figure size 640x480 with 1 Axes>"
      ]
     },
     "metadata": {},
     "output_type": "display_data"
    }
   ],
   "source": [
    "plt.hist(set(sentiments) - set([\"unknown\"]))"
   ]
  },
  {
   "cell_type": "code",
   "execution_count": null,
   "metadata": {},
   "outputs": [],
   "source": []
  },
  {
   "cell_type": "code",
   "execution_count": 2,
   "metadata": {},
   "outputs": [],
   "source": [
    "from transformers import pipeline"
   ]
  },
  {
   "cell_type": "code",
   "execution_count": 9,
   "metadata": {},
   "outputs": [],
   "source": [
    "# !jupyter nbextension enable --py widgetsnbextension"
   ]
  },
  {
   "cell_type": "code",
   "execution_count": 10,
   "metadata": {},
   "outputs": [
    {
     "name": "stderr",
     "output_type": "stream",
     "text": [
      "Some layers from the model checkpoint at bhadresh-savani/distilbert-base-uncased-emotion were not used when initializing TFDistilBertForSequenceClassification: ['dropout_19']\n",
      "- This IS expected if you are initializing TFDistilBertForSequenceClassification from the checkpoint of a model trained on another task or with another architecture (e.g. initializing a BertForSequenceClassification model from a BertForPreTraining model).\n",
      "- This IS NOT expected if you are initializing TFDistilBertForSequenceClassification from the checkpoint of a model that you expect to be exactly identical (initializing a BertForSequenceClassification model from a BertForSequenceClassification model).\n",
      "Some layers of TFDistilBertForSequenceClassification were not initialized from the model checkpoint at bhadresh-savani/distilbert-base-uncased-emotion and are newly initialized: ['dropout_59']\n",
      "You should probably TRAIN this model on a down-stream task to be able to use it for predictions and inference.\n"
     ]
    }
   ],
   "source": [
    "hf_sentiment_classifier = pipeline(\"text-classification\", model='bhadresh-savani/distilbert-base-uncased-emotion')"
   ]
  },
  {
   "cell_type": "code",
   "execution_count": 11,
   "metadata": {},
   "outputs": [
    {
     "data": {
      "text/plain": [
       "[{'label': 'joy', 'score': 0.9775402545928955}]"
      ]
     },
     "execution_count": 11,
     "metadata": {},
     "output_type": "execute_result"
    }
   ],
   "source": [
    "hf_sentiment_classifier(\"Hello World!\")"
   ]
  },
  {
   "cell_type": "code",
   "execution_count": null,
   "metadata": {},
   "outputs": [],
   "source": []
  },
  {
   "cell_type": "code",
   "execution_count": 1,
   "metadata": {},
   "outputs": [],
   "source": [
    "import json"
   ]
  },
  {
   "cell_type": "code",
   "execution_count": null,
   "metadata": {},
   "outputs": [],
   "source": [
    "json.dumps(['depression', 'unknown', 'unknown', 'self-esteem', 'unknown', 'unknown'])"
   ]
  },
  {
   "cell_type": "code",
   "execution_count": 2,
   "metadata": {},
   "outputs": [
    {
     "data": {
      "text/plain": [
       "'[\"\"depression\"\", \"\"unknown\"\", \"\"unknown\"\", \"\"self-esteem\"\", \"\"unknown\"\", \"\"unknown\"\"]'"
      ]
     },
     "execution_count": 2,
     "metadata": {},
     "output_type": "execute_result"
    }
   ],
   "source": [
    "# Convert list to string using json.dumps()\n",
    "topic_labels_str = json.dumps(['depression', 'unknown', 'unknown', 'self-esteem', 'unknown', 'unknown'])\n",
    "\n",
    "# Replace \" with \"\" and ' with '' in string\n",
    "topic_labels_str = topic_labels_str.replace('\"', '\"\"')\n",
    "topic_labels_str = topic_labels_str.replace(\"'\", \"''\")\n",
    "\n",
    "topic_labels_str"
   ]
  }
 ],
 "metadata": {
  "kernelspec": {
   "display_name": "ForIPD",
   "language": "python",
   "name": "python3"
  },
  "language_info": {
   "codemirror_mode": {
    "name": "ipython",
    "version": 3
   },
   "file_extension": ".py",
   "mimetype": "text/x-python",
   "name": "python",
   "nbconvert_exporter": "python",
   "pygments_lexer": "ipython3",
   "version": "3.10.14"
  }
 },
 "nbformat": 4,
 "nbformat_minor": 2
}
