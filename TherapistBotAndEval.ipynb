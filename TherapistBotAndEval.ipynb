{
 "cells": [
  {
   "cell_type": "code",
   "execution_count": 1,
   "metadata": {},
   "outputs": [],
   "source": [
    "import openai\n",
    "from openai import OpenAI\n",
    "import pandas as pd\n",
    "import os"
   ]
  },
  {
   "cell_type": "code",
   "execution_count": 2,
   "metadata": {},
   "outputs": [
    {
     "data": {
      "text/html": [
       "<div>\n",
       "<style scoped>\n",
       "    .dataframe tbody tr th:only-of-type {\n",
       "        vertical-align: middle;\n",
       "    }\n",
       "\n",
       "    .dataframe tbody tr th {\n",
       "        vertical-align: top;\n",
       "    }\n",
       "\n",
       "    .dataframe thead th {\n",
       "        text-align: right;\n",
       "    }\n",
       "</style>\n",
       "<table border=\"1\" class=\"dataframe\">\n",
       "  <thead>\n",
       "    <tr style=\"text-align: right;\">\n",
       "      <th></th>\n",
       "      <th>questionText</th>\n",
       "      <th>topic</th>\n",
       "      <th>answerText</th>\n",
       "    </tr>\n",
       "  </thead>\n",
       "  <tbody>\n",
       "    <tr>\n",
       "      <th>0</th>\n",
       "      <td>I’m facing severe depression and anxiety and I...</td>\n",
       "      <td>depression</td>\n",
       "      <td>First, be patient because anxiety and depressi...</td>\n",
       "    </tr>\n",
       "    <tr>\n",
       "      <th>1</th>\n",
       "      <td>I'm not suicidal and wouldn't take my own life...</td>\n",
       "      <td>depression</td>\n",
       "      <td>Sounds like a sign of great unhappiness, or sa...</td>\n",
       "    </tr>\n",
       "    <tr>\n",
       "      <th>2</th>\n",
       "      <td>I'm in my mid 20s with a husband and children....</td>\n",
       "      <td>depression</td>\n",
       "      <td>Good for you on being sensitive to your human ...</td>\n",
       "    </tr>\n",
       "    <tr>\n",
       "      <th>3</th>\n",
       "      <td>There are many people willing to lovingly prov...</td>\n",
       "      <td>depression</td>\n",
       "      <td>From the little bit you wrote, my guess is you...</td>\n",
       "    </tr>\n",
       "    <tr>\n",
       "      <th>4</th>\n",
       "      <td>I've become so jaded that I can't control my t...</td>\n",
       "      <td>depression</td>\n",
       "      <td>Maybe your thoughts require your attention and...</td>\n",
       "    </tr>\n",
       "  </tbody>\n",
       "</table>\n",
       "</div>"
      ],
      "text/plain": [
       "                                        questionText       topic  \\\n",
       "0  I’m facing severe depression and anxiety and I...  depression   \n",
       "1  I'm not suicidal and wouldn't take my own life...  depression   \n",
       "2  I'm in my mid 20s with a husband and children....  depression   \n",
       "3  There are many people willing to lovingly prov...  depression   \n",
       "4  I've become so jaded that I can't control my t...  depression   \n",
       "\n",
       "                                          answerText  \n",
       "0  First, be patient because anxiety and depressi...  \n",
       "1  Sounds like a sign of great unhappiness, or sa...  \n",
       "2  Good for you on being sensitive to your human ...  \n",
       "3  From the little bit you wrote, my guess is you...  \n",
       "4  Maybe your thoughts require your attention and...  "
      ]
     },
     "execution_count": 2,
     "metadata": {},
     "output_type": "execute_result"
    }
   ],
   "source": [
    "test_df = pd.read_csv(\"C:/Users/durge/Documents/TY-Sem 6/IPD Implementation/GPT Turbo Chatbot/Chatbot/FineTuning/test.csv\")\n",
    "test_df.head()"
   ]
  },
  {
   "cell_type": "code",
   "execution_count": 3,
   "metadata": {},
   "outputs": [
    {
     "data": {
      "text/plain": [
       "84"
      ]
     },
     "execution_count": 3,
     "metadata": {},
     "output_type": "execute_result"
    }
   ],
   "source": [
    "len(test_df)"
   ]
  },
  {
   "cell_type": "code",
   "execution_count": 4,
   "metadata": {},
   "outputs": [
    {
     "data": {
      "text/plain": [
       "50"
      ]
     },
     "execution_count": 4,
     "metadata": {},
     "output_type": "execute_result"
    }
   ],
   "source": [
    "len(test_df[test_df[\"questionText\"].str.len() < 300])"
   ]
  },
  {
   "cell_type": "code",
   "execution_count": 69,
   "metadata": {},
   "outputs": [
    {
     "data": {
      "text/html": [
       "<div>\n",
       "<style scoped>\n",
       "    .dataframe tbody tr th:only-of-type {\n",
       "        vertical-align: middle;\n",
       "    }\n",
       "\n",
       "    .dataframe tbody tr th {\n",
       "        vertical-align: top;\n",
       "    }\n",
       "\n",
       "    .dataframe thead th {\n",
       "        text-align: right;\n",
       "    }\n",
       "</style>\n",
       "<table border=\"1\" class=\"dataframe\">\n",
       "  <thead>\n",
       "    <tr style=\"text-align: right;\">\n",
       "      <th></th>\n",
       "      <th>questionText</th>\n",
       "      <th>topic</th>\n",
       "      <th>answerText</th>\n",
       "    </tr>\n",
       "  </thead>\n",
       "  <tbody>\n",
       "    <tr>\n",
       "      <th>0</th>\n",
       "      <td>I’m facing severe depression and anxiety and I...</td>\n",
       "      <td>depression</td>\n",
       "      <td>First, be patient because anxiety and depressi...</td>\n",
       "    </tr>\n",
       "    <tr>\n",
       "      <th>1</th>\n",
       "      <td>There are many people willing to lovingly prov...</td>\n",
       "      <td>depression</td>\n",
       "      <td>From the little bit you wrote, my guess is you...</td>\n",
       "    </tr>\n",
       "    <tr>\n",
       "      <th>2</th>\n",
       "      <td>I've become so jaded that I can't control my t...</td>\n",
       "      <td>depression</td>\n",
       "      <td>Maybe your thoughts require your attention and...</td>\n",
       "    </tr>\n",
       "    <tr>\n",
       "      <th>3</th>\n",
       "      <td>After he got home from the hospital he was ang...</td>\n",
       "      <td>depression</td>\n",
       "      <td>Since as husband and wife your lives are close...</td>\n",
       "    </tr>\n",
       "    <tr>\n",
       "      <th>4</th>\n",
       "      <td>I have terrible anxiety and depression. I've t...</td>\n",
       "      <td>depression</td>\n",
       "      <td>Is it possible you simply didn't mix well with...</td>\n",
       "    </tr>\n",
       "  </tbody>\n",
       "</table>\n",
       "</div>"
      ],
      "text/plain": [
       "                                        questionText       topic  \\\n",
       "0  I’m facing severe depression and anxiety and I...  depression   \n",
       "1  There are many people willing to lovingly prov...  depression   \n",
       "2  I've become so jaded that I can't control my t...  depression   \n",
       "3  After he got home from the hospital he was ang...  depression   \n",
       "4  I have terrible anxiety and depression. I've t...  depression   \n",
       "\n",
       "                                          answerText  \n",
       "0  First, be patient because anxiety and depressi...  \n",
       "1  From the little bit you wrote, my guess is you...  \n",
       "2  Maybe your thoughts require your attention and...  \n",
       "3  Since as husband and wife your lives are close...  \n",
       "4  Is it possible you simply didn't mix well with...  "
      ]
     },
     "execution_count": 69,
     "metadata": {},
     "output_type": "execute_result"
    }
   ],
   "source": [
    "chatbot_eval_df = test_df[test_df[\"questionText\"].str.len() < 300]\n",
    "chatbot_eval_df.reset_index(drop=True, inplace=True)\n",
    "chatbot_eval_df.head()"
   ]
  },
  {
   "cell_type": "code",
   "execution_count": 72,
   "metadata": {},
   "outputs": [
    {
     "data": {
      "text/plain": [
       "(50, 3)"
      ]
     },
     "execution_count": 72,
     "metadata": {},
     "output_type": "execute_result"
    }
   ],
   "source": [
    "chatbot_eval_df.shape"
   ]
  },
  {
   "cell_type": "code",
   "execution_count": 70,
   "metadata": {},
   "outputs": [
    {
     "data": {
      "text/plain": [
       "15"
      ]
     },
     "execution_count": 70,
     "metadata": {},
     "output_type": "execute_result"
    }
   ],
   "source": [
    "len(chatbot_eval_df[\"topic\"].unique())"
   ]
  },
  {
   "cell_type": "code",
   "execution_count": 71,
   "metadata": {},
   "outputs": [
    {
     "data": {
      "text/plain": [
       "[<matplotlib.lines.Line2D at 0x2a198a31e40>]"
      ]
     },
     "execution_count": 71,
     "metadata": {},
     "output_type": "execute_result"
    },
    {
     "data": {
      "image/png": "[encoded data removed]",
      "text/plain": [
       "<Figure size 640x480 with 1 Axes>"
      ]
     },
     "metadata": {},
     "output_type": "display_data"
    }
   ],
   "source": [
    "import matplotlib.pyplot as plt\n",
    "plt.xticks(rotation=90)\n",
    "plt.plot(chatbot_eval_df[\"topic\"].value_counts())"
   ]
  },
  {
   "cell_type": "code",
   "execution_count": 47,
   "metadata": {},
   "outputs": [],
   "source": [
    "# chatbot_responses = []\n",
    "\n",
    "# client = OpenAI(api_key = os.getenv('OPENAI_API_KEY'))\n",
    "\n",
    "# for ques in chatbot_eval_df[\"questionText\"]:\n",
    "\n",
    "#     completion = client.chat.completions.create(\n",
    "#         model = \"ft:gpt-3.5-turbo-0125:personal:therapistbot-2:9AMcj2pW\",\n",
    "#         messages = [ {\"role\": \"user\", \"content\": ques}],\n",
    "#         )\n",
    "    \n",
    "#     chatbot_responses.append(completion.choices[0].message.content)"
   ]
  },
  {
   "cell_type": "code",
   "execution_count": 63,
   "metadata": {},
   "outputs": [],
   "source": [
    "# chatbot_eval_ques[\"questionText\"][10:]"
   ]
  },
  {
   "cell_type": "code",
   "execution_count": 73,
   "metadata": {},
   "outputs": [],
   "source": [
    "# print(chatbot_eval_df[40])\n",
    "# print()\n",
    "# print()"
   ]
  },
  {
   "cell_type": "code",
   "execution_count": 74,
   "metadata": {},
   "outputs": [
    {
     "data": {
      "text/plain": [
       "50"
      ]
     },
     "execution_count": 74,
     "metadata": {},
     "output_type": "execute_result"
    }
   ],
   "source": [
    "len(chatbot_responses)"
   ]
  },
  {
   "cell_type": "code",
   "execution_count": 75,
   "metadata": {},
   "outputs": [
    {
     "name": "stdout",
     "output_type": "stream",
     "text": [
      "[\"Anxiety usually about some sort of anticipated loss or fear of not being good enough to accomplish some task or in relationship to someone with whom the person lives.The way to overcome is to understand that these fears are inside of you right now bc of the way you imagine the current or upcoming situation.It doesn't necessarily have anything to do with the way the other person treats you. Plus, it is possible that your anxiety is a symptom of not feeling completely safe in your living environment.\", \"As long as you have friends to love and appreciate you, then your feelings of not belonging are more likely to be rooted in a temporary situation or in a way of being which is not characteristic of who you are.In a broad way, examine your own philosophy of life and the reasons and principles which organize your thoughts and emotions in response to events and circumstances.Since you would not be among friends who love and appreciate you, then the next best option is to love and appreciate yourself.This is a broad idea that you can develop over time.What specific ways can you take care of, nurture and appreciate yourself?Since being among friends is in a loving relationship with these people, then are you able to offer patience to yourself and simply try to enjoy being with friends, even if you do this at the expense of feeling different from them.This is a temporary feeling. if for example you are clothing and feeding and sheltering yourself bc you had some difficult circumstances in childhood and the feeling of being taken care of by someone who was unloving, then this sort of goes a little further to nurture and appreciate you.You may wish to be more generous with yourself in terms of caring and appreciating yourself.Possibly you'll feel more belonging simply by realizing you have the power to love and appreciate yourself.This in itself may be the formula which opens the door to know you belong among those who take care of you.\", 'Anxiety usually about some upcoming circumstance or situation, in which the person feels or fears to feel helpless or out of control.Are you able to prepare for the anxiety you anticipate feeling?It may help to bring with you a small comforting item, such as a favorite book or something familiar \"feels\" like home. \\n\\nThis may calm you enough so you can breath deeply and find the words to tell the person about your anxiety.', \"Your question reads as though you are the one who must carry along and sustain your boyfriend's anger.More realistically. he is the one who must either decide to continue a relationship or not. The decision he makes will be based on whether he feels there is enough benefit to him to overlook the fact that you are carrying along his anger.He may not be willing to overlook what to you feels like a heavy load. And, if he does and you feel that the two of you are back on track with your relationship, then be prepared for a more heavy load of anger within you. It may feel unbearable to you, in which case, the relationship problems you each have, are the ones carrying you down, or, the plain heaviness of the situation is too much for either of you to tolerate.This kind of dynamic which you describe, of one person carrying along the heavy anger of yourself and your boyfriend, is unstable and certainly unhappy, is not the way to go to resolve problems. It typically ends with some type of explosion of the very unhappiness which someone was feeling but went ignored by the partner.\", 'Probably what you need is a new approach to finding what is already in you.Last answer is good for avoiding getting worse with your depression and anxiety. Consider some of the new age advice which tells people they are good enough, or have a purpose to their life.If you can start to believe that your life has purpose and you are the one who can find this, this may open some of the tension you feel to not have a life you consider worthwhile.', 'Your sense of self, who you truly are, is kept hidden and protected from what goes on in the large society.Excellent that you realized your sense of self was missing the confidence and effectiveness of handling life\\'s basic everyday matters.Since you at this time are in the midst of \"overcoming\" your depression, the sideway path depression created, of not being able to know who you are, is a ideal in sense many people don\\'t know who they truly are.', 'How would you define \"truly happy\".\"Happiness\" is a complex feeling that comes from feeling that one\\'s life is going in the \"right\" direction and that are with this the best partner to make your life happy which, at least in some aspects, is with someone who has the same directional thought as us.The \"someone\" in your life will always be happier with you, even in moments of shared or mutual happiness, if this person talks with you about the problem that is creating an unhappiness at this very moment.The key is knowing what unhappiness you feel and with whom you partner, based on the four directions of happiness you listed above.You may not need a partner for unhappiness. In fact, without a partner, you may be able to concentrate more on the type of \"someone\" that you would like to partner with, the direction of the current relationship, how unhappy you are, seems unrelated to any problem in the current relationship.What do you know about your own split personality, other than that you\\'ve been told a split personality\\' is what you\\'ve got?Among many possibilities, one is not that you need a partner to be happy.It is possible that your need to concentrate on a current partner situation is being triggered by deep hurt within you from someone who has previously rejected you.What do you believe the split personality is helping you to understand and accept about yourself?', \"Since sex is a combination of physical and emotional intensity, I wonder if you find yourself feeling more secure in a relationship than you would have predicted, if prior to the relationship, you were more hesitant to engage in sex.The simplest explanation is that you are a person who values feeling secure, and does not yet feel this in the current relationship.It is also possible that you grew up in a family in which love and affection were either not shown, or not felt very much by the people who raised you.Since as a young child you had no choice regarding the way you were brought up, now as an adult you're able to understand the difference between your family and the way a couple can create their own unique way in which to show love and integrate this with sex.\", \"What is your area of work?Are you unhappy because of a heavy workload or because of some type of injustice or unfair treatment?If you're unhappy because the feel of your work has changed, then it is possible to feel better by finding a different job.Also, if you are underpaid or not compensated for the amount of work you do, then maybe changing jobs will be a good move.\", 'Here are a couple of ideas to get you started.Everyone feels fear at times. The difference is feeling fear of situations and people, feeling fear of Fear itself, or living in a state of fear most of the time.Fear is the normal response to being threatened, either by a person, animal, circumstance, some intensively threatening condition in nature.Fear by definition is a feeling of being out of control and at the mercy of a threatening other.Feeling \"at the mercy\" of fear, is in some ways \"good\", so that you realize how much strength and authority you usually have in your everyday life, and that you had simply forgotten about this, because the feeling is usually more below the surface than the level of awareness at which you\\'d usually operate.A similar, though not the same, idea can be applied to being threatened by someone.Feeling at \"the mercy\" of someone is not your usual state.Basically, develop a simple routine of soothing yourself. Make believe you have all the power in the world to do as you please, in a respectful and safe way.', \"Take smaller steps for confidence in presenting yourself and your work. If you are always in environments in which you feel terrible, then examine whether this is because of your own self-criticism and self-doubt or because you actually are in terrible circumstances with difficult people and in way which feels frightening and probably starts the moment that you join the program.Very often, people who are sensitive, intelligent and creative, get placed in work situations in which they are expected to tolerate harshness from someone who has a position of authority, or is highly rewarded by the company for producing very good results.If you are in such a place, then the confidence to believe in your own work may be difficult to achieve.It is more likely you'll need to remove yourself from the program in order to grow stronger as a person.Sending lots of good wishes for strength and success in whatever area of your life which feels lacking!\", \"It is possible that at the current time there is tremendous stress in your life and the stress is triggering a very negative reaction from within you.Killing other people is not a normal way of thinking, at least from the vantage point of someone who doesn't start out thinking of killing other people.It is also possible that you have a significant loss in your life and your thoughts of killing others are your way of trying to process the meaning of your life in relation to the other person.\", \"I'm sorry your mom doesn't offer you any help.The fact that she prefers to not offer help, doesn't mean you don't need any.The best way of having a conversation with your mom on the topic of your health, is to ask her if she would like to be involved in helping you.The person who is most likely to have a dialogue with your mom on the topic of your health, is your mom.If she doesn't want to talk about wanting to improve your health, then this is her choice. You can still make the effort to take care of yourself.If your mom doesn't want to talk about the subject, then be prepared to talk about your health without her. She may not be willing to participate and this doesn't mean you don't still require help, if is from a licensed professional in the field.\", \"If you are able to be aware of how you feel, this is a good sign of your overall mental and emotional health.It is possible you feel more of a risk to your emotional or psychic health in break up, than that you prefer sleeping next to someone.Examine and trust your own answers to find out more about your fears.Another, although less likely possibility, is to break up bc the other person is bad, mistreats you, doesn't care about you and generally behaves in ways that show lack of respect for you.If you feel mistreated then go thru the uneasy feelings of sleeping alone introduced by the person.In general terms, a break up means some type of change in two people's lives. There is an intuitive sense that sleeping alone increases the risk of finding out more about yourself. All the fears related to change are deep rooted usually, so the bed is only one current example of your fears from long ago.The way to dissolve these fears is by developing patience with the process of what you are able to accept, tolerate and live with.\", \"Probably a very good starting place for finding ways to develop your own inner security.To not accept that you do have fears, is itself a fearful place to be.At some level, everyone needs to feel they have good position within their social group or family and that this position is respected by others.There may be many, many areas of your own inner life which you already control. Maybe without realizing, maybe you're already in a place of security and simply need to more fully develop and realize this.\", \"Go slow and take small steps to tell your friends that you did something which you feel is bad and not in line with your character.There isn't a guide, especially regarding the order or the number of times you bring up the topic with your friends.It is possible that your friends may not consider you to be a follower of their advice or a communicator of their standards.\", \"Your true path is the option which causes the fewest number of difficulties and the option to develop the most comfort and safety in all areas of your son's life.The answer depends somewhat on how strongly attached and what your son's own views and opinions are, to your daughter.First, look at your own views and opinions, then if any of these are in conflict with those of your son.His your son made any effort to go to your daughter last year when she was in your country? Do you think he would have done so, if it were possible? Is there any reason to believe the daughter didn't want to be found by your son?If you trust your own views and sense your son is simply following and adopting views you don't agree with and which are strongly in conflict with those you already do have, then it would be a good, safe tentative first step to talk with your son.When a serious matter is opened, it is often, discussed in a very much detail and depth all at once which is overwhelming, a lot of the time, for the person and doesn't lead to a resolution. At least by talking with your son on a simple level, you will establish a line of communication with him which may one day develop into more serious conversations with more depth to them.Also, just because your son doesn't want to follow the line of actions which you, as his mother would wish, doesn't mean he is against all of what you are doing or everything the mother is doing, regardless of mother and son being on the same or differing views.Again, just by opening the door to talk, you may be many steps away and not know if or when this will ever happen for the son who is in his 20s.This is not necessarily a matter of mother and son. If the mother/son door is opened and there is discussion that props up the mother's views, the son is still free to do as they wish.The very first step is to establish a relationship which allows for serious discussion.Move as slowly as your son needs and focus on your son's major interests which you think cause or contribute to the problems you are currently seeing and feeling.\", \"Maybe it's a jumbled mess of feelings that your daughter feels about herself and the way she colors.I'm glad you see the positive side of her having her feelings sorted out.In the longterm this is much better than seemingly jumbled feelings she has about herself and her creative expression.\", \"Does the actual fact of seeing your friends, their happy lives together, upset you? I don't mean to discount your feelings of seeing your friends with a girlfriend, but only to understand if you imagine yourself in a similar situation, in the happy relationship that your friends are in, does this upset you?The other side of the possibility, is that your friends in a committed relationship will mean less friends who are similarly available to you. Upside, is the happy couple of seeing their friends in a similar light as your own.Tell your friends your feelings so the they can be mindful of you in the context of having a new relationship.Hopefully your friends will be understanding and not judge you negatively for having an upset reaction to their news.\", \"I poor for socializing because this sort of embarrassment goes very deep into my sense of who I am.As a fellow introvert, I respect your choice of not to socialize because the only one who knows what is best for you, is yourself.The boy who told you about your top was actually being rude bc he didn't respect your point of view.Since the question is, theoretically, for any person who is on the receiving side of someone's social-embarrassassment, ask the boy to tell you if there is a specific reason that you should change your top.It is also possible the boy doesn't know he was being rude and thinks this is the way to point out that you were showing more of yourself than maybe you wished to.In either case, if the boy has some empathy and is interested in talking with you, more chances he listens to you and doesn't get the message from you that you feel embarrassed, then maybe consider talking about these points with him.It may open the whole new world of having a supportive conversation partner for when you're not on the receiving side of someone's point of view, you'll have a chance to know what it feels like to have a good talk with someone.\", \"Love isn't a bargaining chip so your approach to regain your bf, depends on what you imagine regaining him would require of each of you.In order to find out what your bf would require of you to regain his love, you would need to have a conversation asking him this very question.The two of you would either come closer together, or not, based on the results of the conversation.\", 'Stay true to yourself which right now is probably feeling very unhappy in this relationship.', 'It is very likely your husband wants a divorce.He may not be happy in the marriage and may not like you, similar to how you do not like him.Filing for divorce starts a new pathway of possibilities in your relationship to your husband.There are many steps before a divorce is granted. Having kids and not kids raises many social and personal topics. It is a much more complicated road than most people realize.Filing for divorce without having any discussion on the reasons of what happened, is a major step of completing the marriage. Once the divorce is filed, whether opened or not, you will start the new road of having all the topics, and your feelings about the situation, at least you will know these are your true feelings.', 'Well, be sure you make contact with the prison to find out the information as to exactly where your brother is and what his condition is.To answer your question as to why most of us have no idea as to what prison a family member who has gone to jail, has done and is doing, I believe it is out of shame for having a family member who has done what is considered by the larger culture, to answer the question, \"who is this person, where is this person, what is the criminal charge against this person,?\" did you go to jail when the injury occurred?In other words, is your family doing what the larger culture tells them? Are they afraid to tell their friends and or social networks about what has happened with your brother?Also, many times when family members hurt each other, the fear is of being known by others, which disables the person to step forward and tell the truth about what has happened.Best of luck in understanding all the dynamics in your family system!', \"Throwing things sounds as if you're having a problem with feeling and expressing anger. Feeling anger is a healthy emotion. Expressing anger by throwing things (as long as no people are harmed by the) is a way of handling the emotion, that some people can let go afterwards more easily than others.There is a difference between throwing things because you are angry and throwing things in order to quickly remove the painful feeling of being hurt by someone.Throw something, either symbolically as in how you imagine removing these painful feelings by doing this in a safe way, or if you'd actually like to remove the person from your life.Or, are you feeling angry most of the time, and that the anger is deep and difficult to express, whether or not you imagine doing something to remove the person from your life?If you ask whether or not you have a problem, then likely you don't have a problem, but rather, a challenge of understanding how to best live your life.\", \"I'm glad you're reaching out for advice on how best to live with your boyfriend's drinking problem.Since the relationship is a long term one, offer your opinion and advice to him. If he wants to change, be patient with how long this takes.Violent outbursts are frightening to watch and I can understand why you'd want to avoid them.If he is unwilling to change or doesn't believe that he can or must change, then ask yourself if you can accept having a relationship with someone who shows such frightening characteristics and behaviors.\", \"Maybe because the actual threesome is hollow and empty,Princeami.A lot of the way people handle situations keeps back their true self. If your true self doesn't wish to participate in the threesome, then having empty feelings is the only option to follow.\", \"The simple and most likely answer is that you know he had sex with a prostitute because he told you so.If you trust what he tells you, then you feel sex with him would feel relaxed and enjoyable.If you don't trust what he tells you, then find out who he does trust and ask this person to find out the answer for you.\", \"From what you write, you're a sensitive, caring partner who would like to receive as much love and giving of yourself, as you feel like giving of yourself to another person.Based on practicality and everyday life, is the balance possible between what you'd like to receive in love, offer and are able to give to another person?\", 'Sorry to hear about the stress in your relationship!Since you and your husband were planning a family, the pregnancy and then the baby, is its own stressor. Usually stressors are more easily manageable when the relationship partners feel secure in the other person.The areas which may help to decrease the stress in the relationship, are the two of you talking about is a great many topics, including these.If your husband is engaging in these alone, then there is a whole new area of stress and concern which the two of you would benefit by discussing.If your husband is agreeing to stop the flirting, then you may feel somewhat relieved by this decision.If he is continuing to flirt after you have spoken with him to stop, then the stressor is still there, just in a somewhat different form.Give yourself as much time as possible to sort through your feelings and what generated the feeling of being betrayed and taken for granted, by your husband.Try to avoid budgeting issues of your own in this phase of becoming a family, if possible.Expect these to show up at some point. They are just easier to see and deal with if you have some relationship disappointment to get through which by the way, are excellent pieces of learning material for couples.Relationships are our greatest path of learning how to love another person.', \"Hmm..it is possible to trust someone and also have doubts about whether this trust is well placed.Please give yourself a little credit and patience for tolerating how uneasy you feel, with good reason.The answer lays within you. Trusting someone is more complicated than trusting that the person will not harm you.Trusting a partner means being able to tolerate the fact that you are actually giving the person the power to take advantage of you.This does not mean you trust the partner.Trust is a feeling of safety. It is.I understand the need to know that all living creatures require time to observe and learn about us. And since trust is most often lost due to a circumstance in which the person who is this the partner, doesn't feel like being trustworthy, you may have plenty of time together on whether or not you feel more at ease with being together or prefer envisioning your partner or enjoying time alone.\", \"In your place I'd be more likely to accept your boyfriend's forgotten promise to you to tell you about the girl, than to accept his lie that this wasn't a big deal.In your place I'd be upset to have been misled.If the problem is that you accepted your boyfriend's behaviour because you believed what he told you, then the best choice now is to have a serious conversation with him about the effect his actions have on you.This type of discussion may motivate him to be a more reliable partner. If he genuinely apologizes and makes serious effort to keep your trust, then I'd be more likely to trust him and also to forgive the lapses of his prior behavior.\", \"Cheating on your husband for  years and keeping the matter hidden within you, sounds like it has pushed you out of relationships.Did you actually ask your husband his opinion on the ways or what he would like with you?Whatever his answer, you now have the opportunity to know as to what extent, if any, cheating made by you, has affected him.It is possible that you two can now discuss ways of restoring the emotional connection between the two of you.Depending on when and if you talk with him and what are your respective interest, in a relationship with him, the two of you may decide for a  new beginning between the two of you.It is also possible he has his own emotional pain from feeling shut out from you and that he doesn't know how to address the topic itself.Who cheats and to what extent, doesn't really matter. Having an affair breaks the trust and the emotional connection between partners.Restoring these is on the list of possible ways of you two making a commitment to each other.There is no right way of introducing a topic, only the wrong ways such discussing it with him will do damage to the emotional connection between the two of you.Since there is no formula about the best way to do this, and whatever he says, listening to ones own intuition and taking from this, the real, self-honest work of restoring trust,Depends on guessing what he wants and what he believes are his rightful ways that you've violated them.\", \"I'm very sorry for the loss of your mom.Have you told your partner that you are pregnant? Please do this since your partner may have very similar feelings to yours and may be able to offer you the comfort and kindness that you need right now.Your mom's advice was, I'm sure, given with love and care. She was good with advice, you and her, then I hope your partner will learn to give you the same type of sensitive and caring attention that you mom gave to you.\", \"You may start the conversation with your mom by telling her you want to discuss something about the way she is handling her anger.Tell her this in an indirect way, like you don't like the way she's handling her anger.Find out from her directly, if she is willing to understand and learn from you, how to differently handle the situations which are now creating such anger in her.Safe and happy conversations only happen when both people feel respected by the other person. This does not seem to be the current dynamic between you and her.Try scheduling a discussion instead of  weeknight and weekend afternoon in which you'd like to discuss something she's handling.The more formal setting of, let's say a scheduled telephone conference, might also help her feel she has a little more control over her life, and it will help you both stay on topic instead of starting in this informal setting, with you already feeling angry to hear her anger.\", \"First decide whether or not you feel family members believe you require effort to fully engage in your life.It is possible they hesitate to tell you their opinions for fear of upsetting you. And, it is also possible they feel you already are making an fullest effort, they just don't see their own hesitations and fears.Plus, I don't know if you've talked with the family or they with you to ask about your opinion. Not speaking to one another to understand the type of obstacles and difficulties each of you may feel in all areas of giving and receiving from the family system, doesn't help any of you.Also, you could directly ask the family for their reasons to not believe your reports on what type of effort you feel you are making. This way they're aware of your preparation, even if they don't agree with all the points you bring up here.\", 'You handle your anger in whatever way you can, which may include deciding to tell her certain points about your own life and the way it feels to you. Anger is a clear sign of feeling hurt by someone or something.Trust your intuition to tell you there is more going on than either you or your friend, likely, predicted.', \"Fighting for others!I'm glad you step in and stop the fight when you are able to. And, yes, it is often the case that the fighting couple then turns on the person who has tried to intervene.Fighting is different than having a discussion. Only one person in a couple is able to benefit from a intervention. And, this is only true if the person who intervenes is the one who is able to change.The benefit of intervening only to realize the fighting between the others is similarly only to realize each one is fighting for what they believe. A compromise is a new idea which has no place in the linear dynamic of a fight.The only way the fighting pair can get past any resentment toward the person who tries to intervene, is to then have a chance to understand how their fighting affects someone else.The only way this is possible is if the person who intervenes is able to have their efforts understood and appreciated.Having an early life lesson in recognizing how one is unfairly treated, prepares a person to be treated fairly. And, being treated unfairly, is a sure sign to know when one is being treated fairly, not fight when one feels this is not possible to avoid being treated unfairly.\", 'Feeling guilty is usually the sign of some inner tension within your own mind.You and your mom may already be very connected to each other on an inner sense level which will be strengthened by your sense of obligation to your mom.There may be a sense of loyalty and obligation to her which she feels.Talking out these feelings within your own mind will allow you to relinquish any guilt you actually feel, have a conversation with your mom on an inner level, and strengthen any emotional bonding or sense of obligation between the two of you.', \"Are you each sure that you do not agree on anything?It is possible that you and your partner have similar views on many points and that you are each assuming that the other disagrees with you on every single point.If you are authentically interested to learn your partner's point of view and are almost always at odds with it, then, before you actually reach the point of arguing, stop and tell your partner you want to learn more about their view.There's no guarantee the two of you will come to agree on anything at all.By stating your wish to learn more about the other person, you are also showing a basic respect for them and their views.\", \"I don't believe anything either of you says. Feeling one way and doing something that goes in the opposite direction, are very far from being in agreement with each other.A person who is done in a relationship is very unlikely to continue doing all the things you describe here.Are you sure he is done? Find out!The only way to know is to ask him.Leaving a relationship usually requires more than just words.The pain you feel is balanced by the freedom of not having the person in your life.Have you done anything to actually distract or take your own focus off of the breakup? It is fine to do things that keep you busy, just don't do them in a way that increase your sorrow, such as drinking too much or having sex with the first person who is willing.Instead, tell him you are still considering your actions, which include leaving the relationship. If he has any objections to your leaving, then express your willingness to discuss these more fully, so that you have the chance to know by his own words, whether he and you are truly done.\", \"Since you haven't seen this girl in person for a few years, then having a romantic relationship with her would be very unlikely.Stay in touch with the friendship circle in which you and this girl travel. One reason for not practicing asking her out is that she might misunderstand your reason. Some girls are very insecure and would be fearful to accept a sudden change in someone's feelings toward them.\", \"Afraid of what, exactly?Find out in what ways your boyfriend is already satisfying you.If the only way you're satisfied in your relationship is by having a general, overall view of your boyfriend and how you feel in it most of the time, then there's a good chance of you and your boyfriend keeping a happy relationship.In what ways would you and your boyfriend benefit from having a different, more positive, view of your boyfriend?This is the question you each must address if the philosophy you have of your boyfriend is a good one to keep.\", \"If you'd like to get in touch w this guy then it is not too late.Messageing someone whom you like, to say hello, is always friendly.Message received when someone is not sure about the best way to contact the person, is not considered very friendly. True, it is better than nothing at all.How is it possible you don't know if you have a crush on this guy or not?If you don't clearly know for certain, then find out by asking yourself if you'd like the contact or not.Don't contact the guy until you're clear that you'd like to reach him.It is completely up to you to make the first move, since he may not even be thinking of you.What stops you from simply contacting this person?You're not in touch w him and don't even know if he is alive.If you've gone as far as to look up this guy on social media, and you discovered he has a very active and full life, then it is almost definite you won't be able to contact him today.Continue to think friendly thoughts toward him if you'd like to do so.When the time is right for you to contact this guy, you'll do so.All the best in reaching the guy you have in mind!\", \"The topics you bring up are very relevant to how someone feels about a relationship and are great to address.Usually people are so excited when a new relationship starts that they have a lot of discussion about the new relationship.What happens after 3 weeks?You like this person a lot, they like you and are in a relationship with you. As long as the two of you are l having conversations which stay on the surface of your feelings about each other, then you're ok.If after a3 weeks, you each haven't gotten any more in depth understanding of the other and are happy staying on the surface of liking each other, then your actions of staying together does give each of you more time to know if you are happy to be a couple.\", 'You can try the experiment of replacing these scary thoughts with more positive and uplifting thoughts.If after trying this experiment for a few days or a week and you are still keeping the scary thoughts, then probably the next place to look is your outer life and social world.Positive people and those that are in your social circle will influence you in positive ways.Particularly if you are able to have long conversations and express your feelings to them, then this will very likely replace the negativity in your mind with the good feelings created by talking with the positive people.', \"Try to understand what is holding you back from making changes in your life in the direction in which you'd like to move.Since you realize that new answers and new ways of handling yourself are possible, start understanding that your own thoughts, feelings and actions are the only parts of your life you are able to control.One way to start is to state what you believe about yourself. For example, if you believe you are lazy and you realize you do more than what your action would be to not change, then state your belief which would prevent you from believing you are lazy.When you know you do more than what your belief is, then figure out who you are. And, what your strengths are.Start with small changes and small successes.Expect to see and feel something different when you try a new way of handling yourself.Then, add another small change.And, keep expecting and looking for your own, inside action which pushes you a little more towards believing you're not lazy.If, after trying a new action, find yourself tired, then rest!Then, get up and go again! You'll always be able to return to the original plan of needing a serious action, some time in the future.In which case, great, you'll have all the material you need to know for the present, to help you stay encouraged.\", \"Sounds like the problem is more about your comfort level with the jokes that this person tells.If you would like to get used to people who make jokes, then this person has a very unreflected and not thought out attitude toward other people.If you'd like to withdraw yourself from listening to this persons jokes, then find out if there is a reason or a person to contact so that you may excuse yourself from hearing the jokes.\", 'Possibly yes, and definitely worth finding out.', 'How do you imagine crying in therapy would be embarrassing?Therapists are very familiar with people feeling like a fool, while in the midst of new awareness and seeing how this awareness is freeing, raise the unwelcome fact of crying, if this happens in discussing your new awareness with your therapist.Therapists have empathy and care about the situations in which their clients find themselves.']\n"
     ]
    }
   ],
   "source": [
    "print(chatbot_responses)"
   ]
  },
  {
   "cell_type": "code",
   "execution_count": 76,
   "metadata": {},
   "outputs": [
    {
     "name": "stderr",
     "output_type": "stream",
     "text": [
      "C:\\Users\\durge\\AppData\\Local\\Temp\\ipykernel_25876\\388304365.py:1: SettingWithCopyWarning: \n",
      "A value is trying to be set on a copy of a slice from a DataFrame.\n",
      "Try using .loc[row_indexer,col_indexer] = value instead\n",
      "\n",
      "See the caveats in the documentation: https://pandas.pydata.org/pandas-docs/stable/user_guide/indexing.html#returning-a-view-versus-a-copy\n",
      "  chatbot_eval_df[\"ChatbotAnswers\"] = chatbot_responses\n"
     ]
    },
    {
     "data": {
      "text/html": [
       "<div>\n",
       "<style scoped>\n",
       "    .dataframe tbody tr th:only-of-type {\n",
       "        vertical-align: middle;\n",
       "    }\n",
       "\n",
       "    .dataframe tbody tr th {\n",
       "        vertical-align: top;\n",
       "    }\n",
       "\n",
       "    .dataframe thead th {\n",
       "        text-align: right;\n",
       "    }\n",
       "</style>\n",
       "<table border=\"1\" class=\"dataframe\">\n",
       "  <thead>\n",
       "    <tr style=\"text-align: right;\">\n",
       "      <th></th>\n",
       "      <th>questionText</th>\n",
       "      <th>topic</th>\n",
       "      <th>answerText</th>\n",
       "      <th>ChatbotAnswers</th>\n",
       "    </tr>\n",
       "  </thead>\n",
       "  <tbody>\n",
       "    <tr>\n",
       "      <th>0</th>\n",
       "      <td>I’m facing severe depression and anxiety and I...</td>\n",
       "      <td>depression</td>\n",
       "      <td>First, be patient because anxiety and depressi...</td>\n",
       "      <td>Anxiety usually about some sort of anticipated...</td>\n",
       "    </tr>\n",
       "    <tr>\n",
       "      <th>1</th>\n",
       "      <td>There are many people willing to lovingly prov...</td>\n",
       "      <td>depression</td>\n",
       "      <td>From the little bit you wrote, my guess is you...</td>\n",
       "      <td>As long as you have friends to love and apprec...</td>\n",
       "    </tr>\n",
       "    <tr>\n",
       "      <th>2</th>\n",
       "      <td>I've become so jaded that I can't control my t...</td>\n",
       "      <td>depression</td>\n",
       "      <td>Maybe your thoughts require your attention and...</td>\n",
       "      <td>Anxiety usually about some upcoming circumstan...</td>\n",
       "    </tr>\n",
       "    <tr>\n",
       "      <th>3</th>\n",
       "      <td>After he got home from the hospital he was ang...</td>\n",
       "      <td>depression</td>\n",
       "      <td>Since as husband and wife your lives are close...</td>\n",
       "      <td>Your question reads as though you are the one ...</td>\n",
       "    </tr>\n",
       "    <tr>\n",
       "      <th>4</th>\n",
       "      <td>I have terrible anxiety and depression. I've t...</td>\n",
       "      <td>depression</td>\n",
       "      <td>Is it possible you simply didn't mix well with...</td>\n",
       "      <td>Probably what you need is a new approach to fi...</td>\n",
       "    </tr>\n",
       "  </tbody>\n",
       "</table>\n",
       "</div>"
      ],
      "text/plain": [
       "                                        questionText       topic  \\\n",
       "0  I’m facing severe depression and anxiety and I...  depression   \n",
       "1  There are many people willing to lovingly prov...  depression   \n",
       "2  I've become so jaded that I can't control my t...  depression   \n",
       "3  After he got home from the hospital he was ang...  depression   \n",
       "4  I have terrible anxiety and depression. I've t...  depression   \n",
       "\n",
       "                                          answerText  \\\n",
       "0  First, be patient because anxiety and depressi...   \n",
       "1  From the little bit you wrote, my guess is you...   \n",
       "2  Maybe your thoughts require your attention and...   \n",
       "3  Since as husband and wife your lives are close...   \n",
       "4  Is it possible you simply didn't mix well with...   \n",
       "\n",
       "                                      ChatbotAnswers  \n",
       "0  Anxiety usually about some sort of anticipated...  \n",
       "1  As long as you have friends to love and apprec...  \n",
       "2  Anxiety usually about some upcoming circumstan...  \n",
       "3  Your question reads as though you are the one ...  \n",
       "4  Probably what you need is a new approach to fi...  "
      ]
     },
     "execution_count": 76,
     "metadata": {},
     "output_type": "execute_result"
    }
   ],
   "source": [
    "chatbot_eval_df[\"ChatbotAnswers\"] = chatbot_responses\n",
    "chatbot_eval_df.head()"
   ]
  },
  {
   "cell_type": "code",
   "execution_count": 77,
   "metadata": {},
   "outputs": [],
   "source": [
    "# chatbot_eval_df.to_csv(\"chatbot_eval_df.csv\", index=False)"
   ]
  },
  {
   "cell_type": "code",
   "execution_count": null,
   "metadata": {},
   "outputs": [],
   "source": []
  },
  {
   "cell_type": "code",
   "execution_count": null,
   "metadata": {},
   "outputs": [],
   "source": []
  },
  {
   "cell_type": "code",
   "execution_count": 78,
   "metadata": {},
   "outputs": [
    {
     "data": {
      "text/html": [
       "<div>\n",
       "<style scoped>\n",
       "    .dataframe tbody tr th:only-of-type {\n",
       "        vertical-align: middle;\n",
       "    }\n",
       "\n",
       "    .dataframe tbody tr th {\n",
       "        vertical-align: top;\n",
       "    }\n",
       "\n",
       "    .dataframe thead th {\n",
       "        text-align: right;\n",
       "    }\n",
       "</style>\n",
       "<table border=\"1\" class=\"dataframe\">\n",
       "  <thead>\n",
       "    <tr style=\"text-align: right;\">\n",
       "      <th></th>\n",
       "      <th>Unnamed: 0</th>\n",
       "      <th>questionID</th>\n",
       "      <th>questionTitle</th>\n",
       "      <th>questionText</th>\n",
       "      <th>questionLink</th>\n",
       "      <th>topic</th>\n",
       "      <th>therapistInfo</th>\n",
       "      <th>therapistURL</th>\n",
       "      <th>answerText</th>\n",
       "      <th>upvotes</th>\n",
       "      <th>views</th>\n",
       "      <th>split</th>\n",
       "    </tr>\n",
       "  </thead>\n",
       "  <tbody>\n",
       "    <tr>\n",
       "      <th>0</th>\n",
       "      <td>0</td>\n",
       "      <td>0</td>\n",
       "      <td>Can I change my feeling of being worthless to ...</td>\n",
       "      <td>I'm going through some things with my feelings...</td>\n",
       "      <td>https://counselchat.com/questions/can-i-change...</td>\n",
       "      <td>depression</td>\n",
       "      <td>Sherry Katz, LCSWCouples and Family Therapist,...</td>\n",
       "      <td>https://counselchat.com/therapists/sherry-katz...</td>\n",
       "      <td>If everyone thinks you're worthless, then mayb...</td>\n",
       "      <td>1</td>\n",
       "      <td>2899</td>\n",
       "      <td>train</td>\n",
       "    </tr>\n",
       "    <tr>\n",
       "      <th>1</th>\n",
       "      <td>1</td>\n",
       "      <td>0</td>\n",
       "      <td>Can I change my feeling of being worthless to ...</td>\n",
       "      <td>I'm going through some things with my feelings...</td>\n",
       "      <td>https://counselchat.com/questions/can-i-change...</td>\n",
       "      <td>depression</td>\n",
       "      <td>Robin Landwehr, DBH, LPCC, NCCMental Health in...</td>\n",
       "      <td>https://counselchat.com/therapists/robin-landw...</td>\n",
       "      <td>Hello, and thank you for your question and see...</td>\n",
       "      <td>1</td>\n",
       "      <td>3514</td>\n",
       "      <td>train</td>\n",
       "    </tr>\n",
       "    <tr>\n",
       "      <th>2</th>\n",
       "      <td>2</td>\n",
       "      <td>0</td>\n",
       "      <td>Can I change my feeling of being worthless to ...</td>\n",
       "      <td>I'm going through some things with my feelings...</td>\n",
       "      <td>https://counselchat.com/questions/can-i-change...</td>\n",
       "      <td>depression</td>\n",
       "      <td>Lee KingI use an integrative approach to treat...</td>\n",
       "      <td>https://counselchat.com/therapists/lee-king</td>\n",
       "      <td>First thing I'd suggest is getting the sleep y...</td>\n",
       "      <td>0</td>\n",
       "      <td>5</td>\n",
       "      <td>train</td>\n",
       "    </tr>\n",
       "  </tbody>\n",
       "</table>\n",
       "</div>"
      ],
      "text/plain": [
       "   Unnamed: 0  questionID                                      questionTitle  \\\n",
       "0           0           0  Can I change my feeling of being worthless to ...   \n",
       "1           1           0  Can I change my feeling of being worthless to ...   \n",
       "2           2           0  Can I change my feeling of being worthless to ...   \n",
       "\n",
       "                                        questionText  \\\n",
       "0  I'm going through some things with my feelings...   \n",
       "1  I'm going through some things with my feelings...   \n",
       "2  I'm going through some things with my feelings...   \n",
       "\n",
       "                                        questionLink       topic  \\\n",
       "0  https://counselchat.com/questions/can-i-change...  depression   \n",
       "1  https://counselchat.com/questions/can-i-change...  depression   \n",
       "2  https://counselchat.com/questions/can-i-change...  depression   \n",
       "\n",
       "                                       therapistInfo  \\\n",
       "0  Sherry Katz, LCSWCouples and Family Therapist,...   \n",
       "1  Robin Landwehr, DBH, LPCC, NCCMental Health in...   \n",
       "2  Lee KingI use an integrative approach to treat...   \n",
       "\n",
       "                                        therapistURL  \\\n",
       "0  https://counselchat.com/therapists/sherry-katz...   \n",
       "1  https://counselchat.com/therapists/robin-landw...   \n",
       "2        https://counselchat.com/therapists/lee-king   \n",
       "\n",
       "                                          answerText  upvotes  views  split  \n",
       "0  If everyone thinks you're worthless, then mayb...        1   2899  train  \n",
       "1  Hello, and thank you for your question and see...        1   3514  train  \n",
       "2  First thing I'd suggest is getting the sleep y...        0      5  train  "
      ]
     },
     "execution_count": 78,
     "metadata": {},
     "output_type": "execute_result"
    }
   ],
   "source": [
    "cc_full_df = pd.read_csv(\"FineTuning/counsel_chat_data.csv\")\n",
    "cc_full_df.head(3)"
   ]
  },
  {
   "cell_type": "code",
   "execution_count": 74,
   "metadata": {},
   "outputs": [
    {
     "data": {
      "text/plain": [
       "'Sherry Katz, LCSWCouples and Family Therapist, LCSW'"
      ]
     },
     "execution_count": 74,
     "metadata": {},
     "output_type": "execute_result"
    }
   ],
   "source": [
    "cc_full_df.loc[0, \"therapistInfo\"]"
   ]
  },
  {
   "cell_type": "code",
   "execution_count": 75,
   "metadata": {},
   "outputs": [
    {
     "data": {
      "text/plain": [
       "Index(['Unnamed: 0', 'questionID', 'questionTitle', 'questionText',\n",
       "       'questionLink', 'topic', 'therapistInfo', 'therapistURL', 'answerText',\n",
       "       'upvotes', 'views', 'split'],\n",
       "      dtype='object')"
      ]
     },
     "execution_count": 75,
     "metadata": {},
     "output_type": "execute_result"
    }
   ],
   "source": [
    "cc_full_df.columns"
   ]
  },
  {
   "cell_type": "code",
   "execution_count": 79,
   "metadata": {},
   "outputs": [
    {
     "data": {
      "text/html": [
       "<div>\n",
       "<style scoped>\n",
       "    .dataframe tbody tr th:only-of-type {\n",
       "        vertical-align: middle;\n",
       "    }\n",
       "\n",
       "    .dataframe tbody tr th {\n",
       "        vertical-align: top;\n",
       "    }\n",
       "\n",
       "    .dataframe thead th {\n",
       "        text-align: right;\n",
       "    }\n",
       "</style>\n",
       "<table border=\"1\" class=\"dataframe\">\n",
       "  <thead>\n",
       "    <tr style=\"text-align: right;\">\n",
       "      <th></th>\n",
       "      <th>questionText</th>\n",
       "      <th>topic</th>\n",
       "      <th>therapistInfo</th>\n",
       "      <th>answerText</th>\n",
       "    </tr>\n",
       "  </thead>\n",
       "  <tbody>\n",
       "    <tr>\n",
       "      <th>0</th>\n",
       "      <td>I'm going through some things with my feelings...</td>\n",
       "      <td>depression</td>\n",
       "      <td>Sherry Katz, LCSWCouples and Family Therapist,...</td>\n",
       "      <td>If everyone thinks you're worthless, then mayb...</td>\n",
       "    </tr>\n",
       "    <tr>\n",
       "      <th>1</th>\n",
       "      <td>I have so many issues to address. I have a his...</td>\n",
       "      <td>depression</td>\n",
       "      <td>Sherry Katz, LCSWCouples and Family Therapist,...</td>\n",
       "      <td>Everyone has topics to discuss when they start...</td>\n",
       "    </tr>\n",
       "    <tr>\n",
       "      <th>2</th>\n",
       "      <td>I have been feeling more and more down for ove...</td>\n",
       "      <td>depression</td>\n",
       "      <td>Sherry Katz, LCSWCouples and Family Therapist,...</td>\n",
       "      <td>Answers about our inner lives are most success...</td>\n",
       "    </tr>\n",
       "    <tr>\n",
       "      <th>3</th>\n",
       "      <td>I’m facing severe depression and anxiety and I...</td>\n",
       "      <td>depression</td>\n",
       "      <td>Sherry Katz, LCSWCouples and Family Therapist,...</td>\n",
       "      <td>First, be patient because anxiety and depressi...</td>\n",
       "    </tr>\n",
       "    <tr>\n",
       "      <th>4</th>\n",
       "      <td>How can I get to a place where I can be conten...</td>\n",
       "      <td>depression</td>\n",
       "      <td>Sherry Katz, LCSWCouples and Family Therapist,...</td>\n",
       "      <td>Your question is a fascinating one!As humans w...</td>\n",
       "    </tr>\n",
       "  </tbody>\n",
       "</table>\n",
       "</div>"
      ],
      "text/plain": [
       "                                        questionText       topic  \\\n",
       "0  I'm going through some things with my feelings...  depression   \n",
       "1  I have so many issues to address. I have a his...  depression   \n",
       "2  I have been feeling more and more down for ove...  depression   \n",
       "3  I’m facing severe depression and anxiety and I...  depression   \n",
       "4  How can I get to a place where I can be conten...  depression   \n",
       "\n",
       "                                       therapistInfo  \\\n",
       "0  Sherry Katz, LCSWCouples and Family Therapist,...   \n",
       "1  Sherry Katz, LCSWCouples and Family Therapist,...   \n",
       "2  Sherry Katz, LCSWCouples and Family Therapist,...   \n",
       "3  Sherry Katz, LCSWCouples and Family Therapist,...   \n",
       "4  Sherry Katz, LCSWCouples and Family Therapist,...   \n",
       "\n",
       "                                          answerText  \n",
       "0  If everyone thinks you're worthless, then mayb...  \n",
       "1  Everyone has topics to discuss when they start...  \n",
       "2  Answers about our inner lives are most success...  \n",
       "3  First, be patient because anxiety and depressi...  \n",
       "4  Your question is a fascinating one!As humans w...  "
      ]
     },
     "execution_count": 79,
     "metadata": {},
     "output_type": "execute_result"
    }
   ],
   "source": [
    "cc_full_df = cc_full_df[cc_full_df[\"therapistInfo\"] == \"Sherry Katz, LCSWCouples and Family Therapist, LCSW\"]\n",
    "cc_full_df.drop(columns=['Unnamed: 0', 'questionID', 'questionTitle','questionLink', 'therapistURL', 'upvotes', 'views', 'split'], inplace=True)\n",
    "cc_full_df.reset_index(drop=True, inplace=True)\n",
    "cc_full_df.head()"
   ]
  },
  {
   "cell_type": "code",
   "execution_count": 89,
   "metadata": {},
   "outputs": [
    {
     "data": {
      "text/html": [
       "<div>\n",
       "<style scoped>\n",
       "    .dataframe tbody tr th:only-of-type {\n",
       "        vertical-align: middle;\n",
       "    }\n",
       "\n",
       "    .dataframe tbody tr th {\n",
       "        vertical-align: top;\n",
       "    }\n",
       "\n",
       "    .dataframe thead th {\n",
       "        text-align: right;\n",
       "    }\n",
       "</style>\n",
       "<table border=\"1\" class=\"dataframe\">\n",
       "  <thead>\n",
       "    <tr style=\"text-align: right;\">\n",
       "      <th></th>\n",
       "      <th>questionText</th>\n",
       "      <th>topic</th>\n",
       "      <th>therapistInfo</th>\n",
       "      <th>answerText_x</th>\n",
       "      <th>answerText_y</th>\n",
       "    </tr>\n",
       "  </thead>\n",
       "  <tbody>\n",
       "    <tr>\n",
       "      <th>0</th>\n",
       "      <td>I’m facing severe depression and anxiety and I...</td>\n",
       "      <td>depression</td>\n",
       "      <td>Sherry Katz, LCSWCouples and Family Therapist,...</td>\n",
       "      <td>First, be patient because anxiety and depressi...</td>\n",
       "      <td>First, be patient because anxiety and depressi...</td>\n",
       "    </tr>\n",
       "    <tr>\n",
       "      <th>1</th>\n",
       "      <td>I'm not suicidal and wouldn't take my own life...</td>\n",
       "      <td>depression</td>\n",
       "      <td>Sherry Katz, LCSWCouples and Family Therapist,...</td>\n",
       "      <td>Sounds like a sign of great unhappiness, or sa...</td>\n",
       "      <td>Sounds like a sign of great unhappiness, or sa...</td>\n",
       "    </tr>\n",
       "    <tr>\n",
       "      <th>2</th>\n",
       "      <td>I'm in my mid 20s with a husband and children....</td>\n",
       "      <td>depression</td>\n",
       "      <td>Sherry Katz, LCSWCouples and Family Therapist,...</td>\n",
       "      <td>Good for you on being sensitive to your human ...</td>\n",
       "      <td>Good for you on being sensitive to your human ...</td>\n",
       "    </tr>\n",
       "    <tr>\n",
       "      <th>3</th>\n",
       "      <td>There are many people willing to lovingly prov...</td>\n",
       "      <td>depression</td>\n",
       "      <td>Sherry Katz, LCSWCouples and Family Therapist,...</td>\n",
       "      <td>From the little bit you wrote, my guess is you...</td>\n",
       "      <td>From the little bit you wrote, my guess is you...</td>\n",
       "    </tr>\n",
       "    <tr>\n",
       "      <th>4</th>\n",
       "      <td>I've become so jaded that I can't control my t...</td>\n",
       "      <td>depression</td>\n",
       "      <td>Sherry Katz, LCSWCouples and Family Therapist,...</td>\n",
       "      <td>Maybe your thoughts require your attention and...</td>\n",
       "      <td>Maybe your thoughts require your attention and...</td>\n",
       "    </tr>\n",
       "  </tbody>\n",
       "</table>\n",
       "</div>"
      ],
      "text/plain": [
       "                                        questionText       topic  \\\n",
       "0  I’m facing severe depression and anxiety and I...  depression   \n",
       "1  I'm not suicidal and wouldn't take my own life...  depression   \n",
       "2  I'm in my mid 20s with a husband and children....  depression   \n",
       "3  There are many people willing to lovingly prov...  depression   \n",
       "4  I've become so jaded that I can't control my t...  depression   \n",
       "\n",
       "                                       therapistInfo  \\\n",
       "0  Sherry Katz, LCSWCouples and Family Therapist,...   \n",
       "1  Sherry Katz, LCSWCouples and Family Therapist,...   \n",
       "2  Sherry Katz, LCSWCouples and Family Therapist,...   \n",
       "3  Sherry Katz, LCSWCouples and Family Therapist,...   \n",
       "4  Sherry Katz, LCSWCouples and Family Therapist,...   \n",
       "\n",
       "                                        answerText_x  \\\n",
       "0  First, be patient because anxiety and depressi...   \n",
       "1  Sounds like a sign of great unhappiness, or sa...   \n",
       "2  Good for you on being sensitive to your human ...   \n",
       "3  From the little bit you wrote, my guess is you...   \n",
       "4  Maybe your thoughts require your attention and...   \n",
       "\n",
       "                                        answerText_y  \n",
       "0  First, be patient because anxiety and depressi...  \n",
       "1  Sounds like a sign of great unhappiness, or sa...  \n",
       "2  Good for you on being sensitive to your human ...  \n",
       "3  From the little bit you wrote, my guess is you...  \n",
       "4  Maybe your thoughts require your attention and...  "
      ]
     },
     "execution_count": 89,
     "metadata": {},
     "output_type": "execute_result"
    }
   ],
   "source": [
    "new_df = pd.merge(cc_full_df, test_df, how=\"inner\", on=\"questionText\")\n",
    "new_df.head()"
   ]
  },
  {
   "cell_type": "code",
   "execution_count": 98,
   "metadata": {},
   "outputs": [
    {
     "data": {
      "text/plain": [
       "depression                  14\n",
       "anxiety                     13\n",
       "intimacy                    13\n",
       "relationships               11\n",
       "parenting                    6\n",
       "family-conflict              6\n",
       "relationship-dissolution     5\n",
       "behavioral-change            3\n",
       "self-esteem                  3\n",
       "anger-management             2\n",
       "trauma                       2\n",
       "diagnosis                    2\n",
       "counseling-fundamentals      2\n",
       "substance-abuse              1\n",
       "workplace-relationships      1\n",
       "marriage                     1\n",
       "lgbtq                        1\n",
       "self-harm                    1\n",
       "social-relationships         1\n",
       "Name: topic, dtype: int64"
      ]
     },
     "execution_count": 98,
     "metadata": {},
     "output_type": "execute_result"
    }
   ],
   "source": [
    "new_df[\"topic\"].value_counts()"
   ]
  },
  {
   "cell_type": "code",
   "execution_count": 106,
   "metadata": {},
   "outputs": [
    {
     "data": {
      "text/plain": [
       "[<matplotlib.lines.Line2D at 0x1f6c5541990>]"
      ]
     },
     "execution_count": 106,
     "metadata": {},
     "output_type": "execute_result"
    },
    {
     "data": {
      "image/png": "[encoded data removed]",
      "text/plain": [
       "<Figure size 640x480 with 1 Axes>"
      ]
     },
     "metadata": {},
     "output_type": "display_data"
    }
   ],
   "source": [
    "plt.xticks(rotation=90)\n",
    "plt.plot(new_df[\"topic\"].value_counts(), label=\"test_topics\")\n",
    "# plt.plot(new_df[\"topic\"].value_counts(), label=\"test_topics\")"
   ]
  },
  {
   "cell_type": "code",
   "execution_count": null,
   "metadata": {},
   "outputs": [],
   "source": []
  }
 ],
 "metadata": {
  "kernelspec": {
   "display_name": "ForIPD",
   "language": "python",
   "name": "python3"
  },
  "language_info": {
   "codemirror_mode": {
    "name": "ipython",
    "version": 3
   },
   "file_extension": ".py",
   "mimetype": "text/x-python",
   "name": "python",
   "nbconvert_exporter": "python",
   "pygments_lexer": "ipython3",
   "version": "3.10.14"
  }
 },
 "nbformat": 4,
 "nbformat_minor": 2
}
